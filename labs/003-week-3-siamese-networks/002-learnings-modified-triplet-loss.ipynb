{
 "cells": [
  {
   "cell_type": "code",
   "execution_count": 1,
   "id": "2d695047-8b6e-429d-836d-f60bbe4af820",
   "metadata": {},
   "outputs": [],
   "source": [
    "import numpy as np\n",
    "import tensorflow as tf"
   ]
  },
  {
   "cell_type": "code",
   "execution_count": 2,
   "id": "224a5516-7d9b-446d-820a-93a65814044f",
   "metadata": {},
   "outputs": [
    {
     "name": "stdout",
     "output_type": "stream",
     "text": [
      "-- Inputs --\n",
      "v1 : [1. 2. 3.]\n",
      "v2 : [1.  2.  3.5] \n",
      "\n",
      "-- Outputs --\n",
      "cosine similarity : 0.9974086507360697\n"
     ]
    }
   ],
   "source": [
    "v1 = np.array([1, 2, 3], dtype=float)\n",
    "v2 = np.array([1, 2, 3.5], dtype=float)\n",
    "\n",
    "print(\"-- Inputs --\")\n",
    "print(\"v1 :\", v1)\n",
    "print(\"v2 :\", v2, \"\\n\")\n",
    "\n",
    "def cosine_similarity(v1, v2):\n",
    "    numerator = tf.math.reduce_sum(v1*v2) # takes the dot product between v1 and v2. Equivalent to np.dot(v1, v2)\n",
    "    denominator = tf.math.sqrt(tf.math.reduce_sum(v1*v1) * tf.math.reduce_sum(v2*v2))\n",
    "    return numerator / denominator\n",
    "\n",
    "print(\"-- Outputs --\")\n",
    "print(\"cosine similarity :\", cosine_similarity(v1, v2).numpy())"
   ]
  },
  {
   "cell_type": "code",
   "execution_count": 3,
   "id": "44765ffd-e1ee-46ca-9bb8-25883b0e8e4f",
   "metadata": {},
   "outputs": [
    {
     "name": "stdout",
     "output_type": "stream",
     "text": [
      "-- Inputs --\n",
      "v1 :\n",
      "[[ 1.  2.  3.]\n",
      " [ 9.  8.  7.]\n",
      " [-1. -4. -2.]\n",
      " [ 1. -7.  2.]]\n",
      "\n",
      "v2 :\n",
      "[[ 3.45083126  2.98917302  1.31933952]\n",
      " [ 9.62350386  5.99327392  6.44324358]\n",
      " [-0.90127254 -2.53262805 -0.49063025]\n",
      " [ 2.16346773 -6.56657597  1.70029122]]\n",
      "\n",
      "Batch sizes match : True\n",
      "\n",
      "-- Outputs --\n",
      "Option 1 : loop\n",
      "[[ 0.75287816  0.97000839 -0.8286579  -0.42479658]\n",
      " [ 0.83906886  0.98916255 -0.77785994 -0.20289944]\n",
      " [-0.72750723 -0.83568191  0.95932141  0.7891139 ]\n",
      " [-0.22030203 -0.21337035  0.63451281  0.9849096 ]]\n"
     ]
    }
   ],
   "source": [
    "# Two batches of vectors example\n",
    "# Input data\n",
    "\n",
    "v1_1 = np.array([1.0, 2.0, 3.0])\n",
    "v1_2 = np.array([9.0, 8.0, 7.0])\n",
    "v1_3 = np.array([-1.0, -4.0, -2.0])\n",
    "v1_4 = np.array([1.0, -7.0, 2.0])\n",
    "v1 = np.vstack([v1_1, v1_2, v1_3, v1_4])\n",
    "\n",
    "v2_1 = v1_1 + np.random.normal(0, 2, 3)  # add some noise to create approximate duplicate\n",
    "v2_2 = v1_2 + np.random.normal(0, 2, 3)\n",
    "v2_3 = v1_3 + np.random.normal(0, 2, 3)\n",
    "v2_4 = v1_4 + np.random.normal(0, 2, 3)\n",
    "v2 = np.vstack([v2_1, v2_2, v2_3, v2_4])\n",
    "\n",
    "print(\"-- Inputs --\")\n",
    "print(f\"v1 :\\n{v1}\\n\")\n",
    "print(f\"v2 :\\n{v2}\\n\")\n",
    "\n",
    "# Batch sizes must match\n",
    "b = len(v1)\n",
    "print(f\"Batch sizes match : {b == len(v2)}\\n\")\n",
    "\n",
    "# Similarity scores\n",
    "\n",
    "# Option 1 : nested loops and the cosine similarity function\n",
    "sim_1 = np.zeros([b, b])  # empty array to take similarity scores\n",
    "# Loop\n",
    "for row in range(0, sim_1.shape[0]):\n",
    "    for col in range(0, sim_1.shape[1]):\n",
    "        sim_1[row, col] = cosine_similarity(v2[row], v1[col]).numpy()\n",
    "\n",
    "print(\"-- Outputs --\")\n",
    "print(\"Option 1 : loop\")\n",
    "print(sim_1)"
   ]
  },
  {
   "cell_type": "code",
   "execution_count": 4,
   "id": "7276239f-6518-4a96-9879-4767ebcd81d0",
   "metadata": {},
   "outputs": [
    {
     "name": "stdout",
     "output_type": "stream",
     "text": [
      "-- Outputs --\n",
      "Option 2 : vector normalization and dot product\n",
      "tf.Tensor(\n",
      "[[ 0.75287816  0.97000839 -0.8286579  -0.42479658]\n",
      " [ 0.83906886  0.98916255 -0.77785994 -0.20289944]\n",
      " [-0.72750723 -0.83568191  0.95932141  0.7891139 ]\n",
      " [-0.22030203 -0.21337035  0.63451281  0.9849096 ]], shape=(4, 4), dtype=float64) \n",
      "\n",
      "Outputs are the same : True\n"
     ]
    }
   ],
   "source": [
    "# Option 2 : vector normalization and dot product\n",
    "def norm(x):\n",
    "    return tf.math.l2_normalize(x, axis=1) # use tensorflow built in normalization\n",
    "\n",
    "sim_2 = tf.linalg.matmul(norm(v2), norm(v1), transpose_b=True)\n",
    "\n",
    "print(\"-- Outputs --\")\n",
    "print(\"Option 2 : vector normalization and dot product\")\n",
    "print(sim_2, \"\\n\")\n",
    "\n",
    "# Check\n",
    "print(f\"Outputs are the same : {np.allclose(sim_1, sim_2)}\")"
   ]
  },
  {
   "cell_type": "code",
   "execution_count": 5,
   "id": "6638a0fe-c9f3-4cc1-afc8-9460da57cb0f",
   "metadata": {},
   "outputs": [],
   "source": [
    "sim_hardcoded = np.array(\n",
    "    [\n",
    "        [0.9, -0.8, 0.3, -0.5],\n",
    "        [-0.4, 0.5, 0.1, -0.1],\n",
    "        [0.3, 0.1, -0.4, -0.8],\n",
    "        [-0.5, -0.2, -0.7, 0.5],\n",
    "    ]\n",
    ")\n",
    "\n",
    "sim = sim_hardcoded"
   ]
  },
  {
   "cell_type": "code",
   "execution_count": 6,
   "id": "82dd2914-b6f7-4be8-bffe-703fdaf406d6",
   "metadata": {},
   "outputs": [
    {
     "name": "stdout",
     "output_type": "stream",
     "text": [
      "-- Inputs --\n",
      "sim:\n",
      "[[ 0.9 -0.8  0.3 -0.5]\n",
      " [-0.4  0.5  0.1 -0.1]\n",
      " [ 0.3  0.1 -0.4 -0.8]\n",
      " [-0.5 -0.2 -0.7  0.5]]\n",
      "shape: (4, 4)\n",
      "\n"
     ]
    }
   ],
   "source": [
    "print(\"-- Inputs --\")\n",
    "print(f\"sim:\")\n",
    "print(sim)\n",
    "print(f\"shape: {sim.shape}\\n\")"
   ]
  },
  {
   "cell_type": "code",
   "execution_count": 7,
   "id": "763d7e00-ab21-433c-99da-ecc4196c8e2b",
   "metadata": {},
   "outputs": [
    {
     "data": {
      "text/plain": [
       "array([ 0.9,  0.5, -0.4,  0.5])"
      ]
     },
     "execution_count": 7,
     "metadata": {},
     "output_type": "execute_result"
    }
   ],
   "source": [
    "# Positives i.e. all the s(A, P) values\n",
    "\n",
    "sim_ap = np.diag(sim)\n",
    "sim_ap"
   ]
  },
  {
   "cell_type": "code",
   "execution_count": 8,
   "id": "0f488a5a-323d-4a86-9462-4dc05f00db0e",
   "metadata": {},
   "outputs": [
    {
     "data": {
      "text/plain": [
       "array([[ 0. , -1.3,  0.7, -1. ],\n",
       "       [-1.3,  0. ,  0.5, -0.6],\n",
       "       [-0.6, -0.4,  0. , -1.3],\n",
       "       [-1.4, -0.7, -0.3,  0. ]])"
      ]
     },
     "execution_count": 8,
     "metadata": {},
     "output_type": "execute_result"
    }
   ],
   "source": [
    "# Negatives i.e. all the s(A, N) values\n",
    "\n",
    "sim_an = sim - sim_ap\n",
    "sim_an"
   ]
  },
  {
   "cell_type": "code",
   "execution_count": 12,
   "id": "999cc6e3-29ff-4b4f-b8ff-01128c29bee0",
   "metadata": {},
   "outputs": [
    {
     "data": {
      "text/plain": [
       "array([[-0.53333333],\n",
       "       [-0.46666667],\n",
       "       [-0.76666667],\n",
       "       [-0.8       ]])"
      ]
     },
     "execution_count": 12,
     "metadata": {},
     "output_type": "execute_result"
    }
   ],
   "source": [
    "# Mean negative\n",
    "\n",
    "mean_neg = np.sum(sim_an, axis=1, keepdims=True) / (b - 1)\n",
    "mean_neg"
   ]
  },
  {
   "cell_type": "code",
   "execution_count": 15,
   "id": "0d94d232-42db-445d-a60a-413ab5c127fb",
   "metadata": {},
   "outputs": [
    {
     "data": {
      "text/plain": [
       "array([[ True, False, False, False],\n",
       "       [False,  True, False, False],\n",
       "       [False, False,  True, False],\n",
       "       [False, False, False,  True]])"
      ]
     },
     "execution_count": 15,
     "metadata": {},
     "output_type": "execute_result"
    }
   ],
   "source": [
    "# Closest negative\n",
    "# Max s(A, N) that is <- s(A, P) for each row\n",
    "\n",
    "mask1 = np.identity(b) == 1\n",
    "mask1"
   ]
  },
  {
   "cell_type": "code",
   "execution_count": 17,
   "id": "3ab7248a-4b8f-4bd5-bb17-9511a09cd872",
   "metadata": {},
   "outputs": [
    {
     "data": {
      "text/plain": [
       "array([[False, False, False, False],\n",
       "       [False, False, False, False],\n",
       "       [False, False,  True, False],\n",
       "       [False, False, False, False]])"
      ]
     },
     "execution_count": 17,
     "metadata": {},
     "output_type": "execute_result"
    }
   ],
   "source": [
    "mask2 = sim_an > sim_ap.reshape(b, 1)\n",
    "mask2"
   ]
  },
  {
   "cell_type": "code",
   "execution_count": 18,
   "id": "1ddd32de-283e-453d-8d04-a7bc7564e5a2",
   "metadata": {},
   "outputs": [
    {
     "data": {
      "text/plain": [
       "array([[ True, False, False, False],\n",
       "       [False,  True, False, False],\n",
       "       [False, False,  True, False],\n",
       "       [False, False, False,  True]])"
      ]
     },
     "execution_count": 18,
     "metadata": {},
     "output_type": "execute_result"
    }
   ],
   "source": [
    "mask = mask1 | mask2\n",
    "mask"
   ]
  },
  {
   "cell_type": "code",
   "execution_count": 19,
   "id": "031ca2bb-2243-43a3-a638-95d425c4ceb7",
   "metadata": {},
   "outputs": [
    {
     "data": {
      "text/plain": [
       "array([[ 0. , -1.3,  0.7, -1. ],\n",
       "       [-1.3,  0. ,  0.5, -0.6],\n",
       "       [-0.6, -0.4,  0. , -1.3],\n",
       "       [-1.4, -0.7, -0.3,  0. ]])"
      ]
     },
     "execution_count": 19,
     "metadata": {},
     "output_type": "execute_result"
    }
   ],
   "source": [
    "sim_an_masked = np.copy(sim_an)\n",
    "sim_an_masked"
   ]
  },
  {
   "cell_type": "code",
   "execution_count": 22,
   "id": "9286294a-b6db-41cc-ba27-a3e9291b1dc6",
   "metadata": {},
   "outputs": [
    {
     "data": {
      "text/plain": [
       "array([[-2. , -1.3,  0.7, -1. ],\n",
       "       [-1.3, -2. ,  0.5, -0.6],\n",
       "       [-0.6, -0.4, -2. , -1.3],\n",
       "       [-1.4, -0.7, -0.3, -2. ]])"
      ]
     },
     "execution_count": 22,
     "metadata": {},
     "output_type": "execute_result"
    }
   ],
   "source": [
    "sim_an_masked[mask] = -2\n",
    "sim_an_masked"
   ]
  },
  {
   "cell_type": "code",
   "execution_count": 23,
   "id": "31772f44-4e60-4346-8524-ad5471c4dbcf",
   "metadata": {},
   "outputs": [
    {
     "data": {
      "text/plain": [
       "array([[ 0.7],\n",
       "       [ 0.5],\n",
       "       [-0.4],\n",
       "       [-0.3]])"
      ]
     },
     "execution_count": 23,
     "metadata": {},
     "output_type": "execute_result"
    }
   ],
   "source": [
    "closest_neg = np.max(sim_an_masked, axis = 1, keepdims=True)\n",
    "closest_neg"
   ]
  },
  {
   "cell_type": "code",
   "execution_count": 25,
   "id": "f9fc32ad-e7f1-4dd1-b599-4e6436251574",
   "metadata": {},
   "outputs": [
    {
     "data": {
      "text/plain": [
       "<tf.Tensor: shape=(4, 4), dtype=float64, numpy=\n",
       "array([[0.        , 0.        , 0.11666667, 0.        ],\n",
       "       [0.        , 0.        , 0.18333333, 0.        ],\n",
       "       [0.        , 0.        , 0.        , 0.        ],\n",
       "       [0.        , 0.        , 0.        , 0.        ]])>"
      ]
     },
     "execution_count": 25,
     "metadata": {},
     "output_type": "execute_result"
    }
   ],
   "source": [
    "# Losses\n",
    "alpha = 0.25\n",
    "l_1 = tf.maximum(mean_neg - sim_ap + alpha, 0)\n",
    "l_1"
   ]
  },
  {
   "cell_type": "code",
   "execution_count": 26,
   "id": "98bbc381-c90f-4913-a74e-a352ff690e1e",
   "metadata": {},
   "outputs": [
    {
     "data": {
      "text/plain": [
       "<tf.Tensor: shape=(4, 4), dtype=float64, numpy=\n",
       "array([[0.05, 0.45, 1.35, 0.45],\n",
       "       [0.  , 0.25, 1.15, 0.25],\n",
       "       [0.  , 0.  , 0.25, 0.  ],\n",
       "       [0.  , 0.  , 0.35, 0.  ]])>"
      ]
     },
     "execution_count": 26,
     "metadata": {},
     "output_type": "execute_result"
    }
   ],
   "source": [
    "l_2 = tf.maximum(closest_neg - sim_ap + alpha, 0)\n",
    "l_2"
   ]
  },
  {
   "cell_type": "code",
   "execution_count": 27,
   "id": "c2f8ef47-c606-4672-9046-1563412a8fd2",
   "metadata": {},
   "outputs": [],
   "source": [
    "l_full = l_1 + l_2"
   ]
  },
  {
   "cell_type": "code",
   "execution_count": 28,
   "id": "d5fa83bb-6fce-4067-8519-62b93777b1db",
   "metadata": {},
   "outputs": [
    {
     "data": {
      "text/plain": [
       "<tf.Tensor: shape=(4, 4), dtype=float64, numpy=\n",
       "array([[0.05      , 0.45      , 1.46666667, 0.45      ],\n",
       "       [0.        , 0.25      , 1.33333333, 0.25      ],\n",
       "       [0.        , 0.        , 0.25      , 0.        ],\n",
       "       [0.        , 0.        , 0.35      , 0.        ]])>"
      ]
     },
     "execution_count": 28,
     "metadata": {},
     "output_type": "execute_result"
    }
   ],
   "source": [
    "l_full"
   ]
  },
  {
   "cell_type": "code",
   "execution_count": 30,
   "id": "fe7a224f-9a5c-4fee-a1a9-d2d36c2fa0b5",
   "metadata": {},
   "outputs": [
    {
     "data": {
      "text/plain": [
       "<tf.Tensor: shape=(), dtype=float64, numpy=4.85>"
      ]
     },
     "execution_count": 30,
     "metadata": {},
     "output_type": "execute_result"
    }
   ],
   "source": [
    "cost = tf.math.reduce_sum(l_full)\n",
    "cost"
   ]
  },
  {
   "cell_type": "code",
   "execution_count": null,
   "id": "68a60e74-1331-46f3-b9ae-d8506844737c",
   "metadata": {},
   "outputs": [],
   "source": []
  }
 ],
 "metadata": {
  "kernelspec": {
   "display_name": "Python 3 (ipykernel)",
   "language": "python",
   "name": "python3"
  },
  "language_info": {
   "codemirror_mode": {
    "name": "ipython",
    "version": 3
   },
   "file_extension": ".py",
   "mimetype": "text/x-python",
   "name": "python",
   "nbconvert_exporter": "python",
   "pygments_lexer": "ipython3",
   "version": "3.11.7"
  }
 },
 "nbformat": 4,
 "nbformat_minor": 5
}
