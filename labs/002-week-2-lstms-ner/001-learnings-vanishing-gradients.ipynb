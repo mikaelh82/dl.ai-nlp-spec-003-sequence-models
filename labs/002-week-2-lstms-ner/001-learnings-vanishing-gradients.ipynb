{
 "cells": [
  {
   "cell_type": "markdown",
   "id": "a42e4e9f-f248-4959-8103-227ba47a9e77",
   "metadata": {},
   "source": [
    "# Vanishing / Exploding gradients"
   ]
  },
  {
   "cell_type": "code",
   "execution_count": 7,
   "id": "3b6af12d-8a77-44ff-9361-ecd88be7922f",
   "metadata": {},
   "outputs": [],
   "source": [
    "import numpy as np\n",
    "import matplotlib.pyplot as plt\n",
    "import ipywidgets as widgets\n",
    "from ipywidgets import interact, interactive, fixed, interact_manual\n",
    "%matplotlib inline"
   ]
  },
  {
   "cell_type": "markdown",
   "id": "0b78c577-1f08-4d3c-83d3-61932e31441a",
   "metadata": {},
   "source": [
    "## Partial derivatives"
   ]
  },
  {
   "cell_type": "markdown",
   "id": "9da49c48-58dd-4b03-84bd-76f50a578c4c",
   "metadata": {},
   "source": [
    "$$\\frac{\\delta L}{\\delta W_h} \\propto \\sum_{1\\le k\\le t} \\left(\\prod_{t\\ge i>k} \\frac{\\delta h_i}{\\delta h_{i-1}}\\right)\\frac{\\delta h_k}{\\delta W_h}$$\n",
    "\n",
    "$$\\prod_{t\\ge i>k} \\frac{\\delta h_i}{\\delta h_{i-1}}$$\n",
    "\n",
    "$$h_i= \\sigma(W_{hh} h_{i-1} + W_{hx} x_i + b_h)$$\n",
    "\n",
    "$$\\frac{\\delta h_i}{\\delta h_{i-1}} = W_{hh}^T \\text{diag} (\\sigma'(W_{hh} h_{i-1} + W_{hx} x_i + b_h))$$\n"
   ]
  },
  {
   "cell_type": "markdown",
   "id": "dfbfea54-8635-483f-a5a8-23ca897d1e59",
   "metadata": {},
   "source": [
    "## Vanishing and exploding gradients"
   ]
  },
  {
   "cell_type": "markdown",
   "id": "d6f3c221-651c-4b1e-bf7b-6d49cb31c1b5",
   "metadata": {},
   "source": [
    "When the product \n",
    "\n",
    "$$\\prod_{t\\ge i > k} \\frac{\\partial h_i}{\\partial h_{i-1}} = \\prod_{t\\ge i > k} W_{hh}^T \\text{diag} (\\sigma'(W_{hh} h_{i-1} + W_{hx} x_i + b_h))$$\n",
    "\n",
    "approaches 0, you face vanishing gradient problems where the contribution of item $k$ in the sequence is neglected. Conversely, when the product approaches infinity you will face exploding gradients and convergence problems arise. For that product approaching either of those values, two conditions need to be met:\n",
    "\n",
    "<ol>\n",
    "<li> Derivative of the activation function is bounded by some value $\\alpha$ </li>\n",
    "<li> The absolute value of the largest eigenvalue of the weight matrix $W_{hh}$ is lower than $\\frac{1}{\\alpha}$ (sufficient condition for vanishing gradient), or greater than $\\frac{1}{\\alpha}$ (necessary condition for exploding gradient).</li> \n",
    "</ol>"
   ]
  },
  {
   "cell_type": "markdown",
   "id": "682e3343-5e40-462a-b621-17abfd6571d9",
   "metadata": {},
   "source": [
    "### Activation\n",
    "\n",
    "So let's check the first condition for the sigmoid function. Run the cell below to get an interactive plot of the sigmoid function and its derivative at different points. Feel free to change the argument values to check if the derivative is bounded or not."
   ]
  },
  {
   "cell_type": "code",
   "execution_count": 8,
   "id": "e93e68f4-c758-4b82-8089-00a914af8e44",
   "metadata": {},
   "outputs": [
    {
     "data": {
      "application/vnd.jupyter.widget-view+json": {
       "model_id": "b675f95eff234d3aa893741d195ee6af",
       "version_major": 2,
       "version_minor": 0
      },
      "text/plain": [
       "interactive(children=(FloatSlider(value=0.0, description='x_tan', max=6.0, min=-6.0, step=0.5), Output()), _do…"
      ]
     },
     "metadata": {},
     "output_type": "display_data"
    },
    {
     "data": {
      "text/plain": [
       "<function __main__.plot_func(x_tan=0)>"
      ]
     },
     "execution_count": 8,
     "metadata": {},
     "output_type": "execute_result"
    }
   ],
   "source": [
    "# Data\n",
    "\n",
    "### START CODE HERE ###\n",
    "x = np.linspace(-6, 6, 100)  # try changing the range of values in the data. eg: (-100,100,1000)\n",
    "### END CODE HERE ###\n",
    "\n",
    "# Activation\n",
    "# Interval [0, 1]\n",
    "def sigmoid(x):\n",
    "    return 1 / (1 + np.exp(-x))\n",
    "\n",
    "activations = sigmoid(x)\n",
    "\n",
    "# Gradient\n",
    "# Interval [0, 0.25]\n",
    "def sigmoid_gradient(x):\n",
    "    return sigmoid(x) * (1 - sigmoid(x))\n",
    "\n",
    "# Add the tangent line\n",
    "def plot_func(x_tan = 0):\n",
    "    plt.plot(x, activations)\n",
    "    plt.title(\"Sigmoid Function and Gradient\")\n",
    "    plt.xlabel(\"$x$\")\n",
    "    plt.ylabel(\"sigmoid($x$)\")\n",
    "    plt.text(x_tan, sigmoid(x_tan), f\"Gradient: {sigmoid_gradient(x_tan):.4f}\")\n",
    "    plt.xlim((-6,6))\n",
    "    plt.ylim((-0.5,1.5))\n",
    "    plt.rcParams['figure.figsize'] = [7, 5]\n",
    "    y_tan = sigmoid(x_tan)  # y value\n",
    "    span = 4 # line span along x axis\n",
    "    data_tan = np.linspace(x_tan - span, x_tan + span)  # x values to plot\n",
    "    gradient_tan = sigmoid_gradient(x_tan)     # gradient of the tangent\n",
    "    tan = y_tan + gradient_tan * (data_tan - x_tan)     # y values to plot\n",
    "    plt.plot(x_tan, y_tan, marker=\"o\", color=\"orange\", label=True)  # marker\n",
    "    plt.plot(data_tan, tan, linestyle=\"--\", color=\"orange\")         # line\n",
    "    plt.show()\n",
    "\n",
    "interact(plot_func, x_tan = widgets.FloatSlider(value=0,\n",
    "                                            min=-6,\n",
    "                                            max=6,\n",
    "                                            step=0.5))"
   ]
  },
  {
   "cell_type": "markdown",
   "id": "a762c8ea-fc2c-45ec-8e9a-0dcd9fc7d41e",
   "metadata": {},
   "source": [
    "As you checked, the derivative of the sigmoid function is bounded by $\\alpha=\\frac{1}{4}$. So vanishing gradient problems will arise for long-term components if the largest eigenvalue of $W_{hh}$ is lower than 4, and exploding gradient problems will happen if the largest eigenvalue is larger than 4. "
   ]
  },
  {
   "cell_type": "markdown",
   "id": "491e2c1e-f8fd-49ac-95b9-c835423e6096",
   "metadata": {},
   "source": [
    "## Vanishing Gradient with Sigmoid Activation "
   ]
  },
  {
   "cell_type": "code",
   "execution_count": 10,
   "id": "f4fa9dcf-77bb-45e3-8213-2b78e460f4d1",
   "metadata": {},
   "outputs": [],
   "source": [
    "np.random.seed(12345)\n",
    "t = 20\n",
    "h = np.random.randn(5,t)\n",
    "x = np.random.randn(5,t)"
   ]
  },
  {
   "cell_type": "code",
   "execution_count": 11,
   "id": "8b30c522-1a87-4bb9-b8ac-19514ed99193",
   "metadata": {},
   "outputs": [],
   "source": [
    "b_h = np.random.randn(5,1)\n",
    "W_hx = np.random.randn(5,5)"
   ]
  },
  {
   "cell_type": "code",
   "execution_count": 12,
   "id": "17efbcc7-cf8c-4938-a575-34db51f6bd39",
   "metadata": {},
   "outputs": [],
   "source": [
    "eig = np.random.rand(5)*4 # Random eigenvalues lower than 4\n",
    "Q = np.random.randn(5,5) # Random eigenvectors stacked in matrix Q\n",
    "W_hh = Q@np.diag(eig)@np.linalg.inv(Q) #W_hh"
   ]
  },
  {
   "cell_type": "code",
   "execution_count": 13,
   "id": "461b2a5f-d6d2-4177-ae15-7d225502d4e8",
   "metadata": {},
   "outputs": [],
   "source": [
    "def prod(k):\n",
    "    p = 1 \n",
    "    for i in range(t-1, k-2, -1):\n",
    "        p *= W_hh.T@np.diag(sigmoid_gradient(W_hh@h[:,i]+ W_hx@x[:,i] + b_h))\n",
    "    return p"
   ]
  },
  {
   "cell_type": "code",
   "execution_count": 14,
   "id": "0368ce37-8c68-4978-bc47-8f255fc772e7",
   "metadata": {},
   "outputs": [
    {
     "data": {
      "text/plain": [
       "([<matplotlib.axis.XTick at 0x11fb1e310>,\n",
       "  <matplotlib.axis.XTick at 0x11fd19a90>,\n",
       "  <matplotlib.axis.XTick at 0x11fd19210>,\n",
       "  <matplotlib.axis.XTick at 0x1280576d0>,\n",
       "  <matplotlib.axis.XTick at 0x11fe27c50>,\n",
       "  <matplotlib.axis.XTick at 0x11ff6fe10>,\n",
       "  <matplotlib.axis.XTick at 0x11ffde5d0>,\n",
       "  <matplotlib.axis.XTick at 0x11ffde710>,\n",
       "  <matplotlib.axis.XTick at 0x11fec04d0>,\n",
       "  <matplotlib.axis.XTick at 0x11fec1a50>,\n",
       "  <matplotlib.axis.XTick at 0x128122890>,\n",
       "  <matplotlib.axis.XTick at 0x128121390>,\n",
       "  <matplotlib.axis.XTick at 0x11fc8e310>,\n",
       "  <matplotlib.axis.XTick at 0x11fe948d0>,\n",
       "  <matplotlib.axis.XTick at 0x11fe952d0>,\n",
       "  <matplotlib.axis.XTick at 0x11fd311d0>,\n",
       "  <matplotlib.axis.XTick at 0x11fb269d0>,\n",
       "  <matplotlib.axis.XTick at 0x11fd33510>,\n",
       "  <matplotlib.axis.XTick at 0x11fee6150>,\n",
       "  <matplotlib.axis.XTick at 0x128147450>],\n",
       " [Text(1, 0, '1'),\n",
       "  Text(2, 0, '2'),\n",
       "  Text(3, 0, '3'),\n",
       "  Text(4, 0, '4'),\n",
       "  Text(5, 0, '5'),\n",
       "  Text(6, 0, '6'),\n",
       "  Text(7, 0, '7'),\n",
       "  Text(8, 0, '8'),\n",
       "  Text(9, 0, '9'),\n",
       "  Text(10, 0, '10'),\n",
       "  Text(11, 0, '11'),\n",
       "  Text(12, 0, '12'),\n",
       "  Text(13, 0, '13'),\n",
       "  Text(14, 0, '14'),\n",
       "  Text(15, 0, '15'),\n",
       "  Text(16, 0, '16'),\n",
       "  Text(17, 0, '17'),\n",
       "  Text(18, 0, '18'),\n",
       "  Text(19, 0, '19'),\n",
       "  Text(20, 0, '20')])"
      ]
     },
     "execution_count": 14,
     "metadata": {},
     "output_type": "execute_result"
    },
    {
     "data": {
      "image/png": "[encoded data removed]",
      "text/plain": [
       "<Figure size 700x500 with 1 Axes>"
      ]
     },
     "metadata": {},
     "output_type": "display_data"
    }
   ],
   "source": [
    "product = np.zeros(20)\n",
    "for k in range(t):\n",
    "    product[k] = np.max(prod(k+1))\n",
    "\n",
    "plt.plot(np.array(range(t))+1, product)\n",
    "plt.title(\"Maximum contribution to the gradient at step $k$\");\n",
    "plt.xlabel(\"k\");\n",
    "plt.ylabel(\"Maximum contribution\")\n",
    "plt.xticks(np.array(range(t))+1)"
   ]
  },
  {
   "cell_type": "markdown",
   "id": "2d125161-bbde-4b79-bab9-07a3ec4ca4be",
   "metadata": {},
   "source": [
    "With the largest eigenvalue of the weight matrix $W_{hh}$ being lower than 4 --with a sigmoid activation function, the contribution of the early items in the sequence to the gradient go to zero. In practice, this will make your RNN rely only upon the most recent items in the series. "
   ]
  },
  {
   "cell_type": "code",
   "execution_count": null,
   "id": "87fab40c-5f6d-4d6c-a2da-02887cf74d2c",
   "metadata": {},
   "outputs": [],
   "source": []
  }
 ],
 "metadata": {
  "kernelspec": {
   "display_name": "Python 3 (ipykernel)",
   "language": "python",
   "name": "python3"
  },
  "language_info": {
   "codemirror_mode": {
    "name": "ipython",
    "version": 3
   },
   "file_extension": ".py",
   "mimetype": "text/x-python",
   "name": "python",
   "nbconvert_exporter": "python",
   "pygments_lexer": "ipython3",
   "version": "3.11.7"
  }
 },
 "nbformat": 4,
 "nbformat_minor": 5
}
