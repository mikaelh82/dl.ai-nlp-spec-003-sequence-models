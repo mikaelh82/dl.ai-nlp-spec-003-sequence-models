{
 "cells": [
  {
   "cell_type": "markdown",
   "id": "ca5f40c9-29f9-4296-8716-02ae6ba20095",
   "metadata": {},
   "source": [
    "# Tensorflow tutorial"
   ]
  },
  {
   "cell_type": "markdown",
   "id": "482fbd28-5002-4076-95b2-229e023ce52a",
   "metadata": {},
   "source": [
    "## Import libraries"
   ]
  },
  {
   "cell_type": "code",
   "execution_count": 1,
   "id": "95642934-4f87-4cbc-8489-40b8ab78735d",
   "metadata": {},
   "outputs": [],
   "source": [
    "import os\n",
    "\n",
    "os.environ[\"TF_CPP_MIN_LOG_LEVEL\"] = \"3\"\n",
    "\n",
    "import numpy as np\n",
    "import tensorflow as tf\n",
    "from tensorflow.keras.preprocessing.text import Tokenizer\n",
    "from tensorflow.keras import layers\n",
    "from tensorflow.keras import losses\n",
    "import re\n",
    "import string\n",
    "import matplotlib.pyplot as plt"
   ]
  },
  {
   "cell_type": "code",
   "execution_count": 2,
   "id": "d6707afd-164d-4117-ad36-1b4922246ada",
   "metadata": {},
   "outputs": [
    {
     "name": "stdout",
     "output_type": "stream",
     "text": [
      "2.16.1\n"
     ]
    }
   ],
   "source": [
    "print(tf.__version__)"
   ]
  },
  {
   "cell_type": "markdown",
   "id": "bcc19091-7bb5-49eb-bf35-f98a9db24045",
   "metadata": {},
   "source": [
    "## Set random state"
   ]
  },
  {
   "cell_type": "code",
   "execution_count": 3,
   "id": "8e7b6ff0-8c32-4014-8eb1-84bc40e2210b",
   "metadata": {},
   "outputs": [],
   "source": [
    "seed = 42\n",
    "np.random.seed(seed)\n",
    "tf.random.set_seed(seed)"
   ]
  },
  {
   "cell_type": "markdown",
   "id": "b003ad7c-7e5c-49b8-beae-291e2fc4b51c",
   "metadata": {},
   "source": [
    "## Load the data"
   ]
  },
  {
   "cell_type": "code",
   "execution_count": 4,
   "id": "8dc6e53d-6042-4362-a85e-8e8fe5e39ad2",
   "metadata": {},
   "outputs": [],
   "source": [
    "data_dir = \"./data/aclImdb\""
   ]
  },
  {
   "cell_type": "code",
   "execution_count": 5,
   "id": "dd515f8e-4b1d-41ee-a45f-17dfdf7cce1a",
   "metadata": {},
   "outputs": [
    {
     "name": "stdout",
     "output_type": "stream",
     "text": [
      "Found 5000 files belonging to 2 classes.\n",
      "Using 4000 files for training.\n"
     ]
    }
   ],
   "source": [
    "raw_training_set = tf.keras.utils.text_dataset_from_directory(\n",
    "    f\"{data_dir}/train\",\n",
    "    labels=\"inferred\",\n",
    "    label_mode=\"int\",\n",
    "    batch_size=32,\n",
    "    validation_split=0.2,\n",
    "    subset=\"training\",\n",
    "    seed=seed,\n",
    ")"
   ]
  },
  {
   "cell_type": "code",
   "execution_count": 6,
   "id": "93dc7a2e-c7c4-43a2-973e-9f9e31d23d42",
   "metadata": {},
   "outputs": [
    {
     "name": "stdout",
     "output_type": "stream",
     "text": [
      "Found 5000 files belonging to 2 classes.\n",
      "Using 1000 files for validation.\n"
     ]
    }
   ],
   "source": [
    "raw_validation_set = tf.keras.utils.text_dataset_from_directory(\n",
    "    f\"{data_dir}/train\",\n",
    "    labels=\"inferred\",\n",
    "    label_mode=\"int\",\n",
    "    batch_size=32,\n",
    "    validation_split=0.2,\n",
    "    subset=\"validation\",\n",
    "    seed=seed,\n",
    ")"
   ]
  },
  {
   "cell_type": "code",
   "execution_count": 7,
   "id": "baa63931-ad2f-4d70-9d68-dba097331232",
   "metadata": {},
   "outputs": [
    {
     "name": "stdout",
     "output_type": "stream",
     "text": [
      "Found 5000 files belonging to 2 classes.\n"
     ]
    }
   ],
   "source": [
    "raw_test_set = tf.keras.utils.text_dataset_from_directory(\n",
    "    f\"{data_dir}/test\",\n",
    "    labels=\"inferred\",\n",
    "    label_mode=\"int\",\n",
    "    batch_size=32,\n",
    ")"
   ]
  },
  {
   "cell_type": "markdown",
   "id": "9a988945-dfef-4460-8e06-c52883042624",
   "metadata": {},
   "source": [
    "## Investigate data"
   ]
  },
  {
   "cell_type": "code",
   "execution_count": 8,
   "id": "ee614d5e-217d-4b62-9312-b38735a19210",
   "metadata": {},
   "outputs": [
    {
     "name": "stdout",
     "output_type": "stream",
     "text": [
      "Label 0 corresponds to neg\n",
      "Label 1 corresponds to pos\n"
     ]
    }
   ],
   "source": [
    "print(f\"Label 0 corresponds to {raw_training_set.class_names[0]}\")\n",
    "print(f\"Label 1 corresponds to {raw_training_set.class_names[1]}\")"
   ]
  },
  {
   "cell_type": "markdown",
   "id": "a96b2f58-96d0-462e-b82d-b3be585a8e84",
   "metadata": {},
   "source": [
    "### Take one batch and investigate"
   ]
  },
  {
   "cell_type": "code",
   "execution_count": 9,
   "id": "8ed684df-d479-4c4c-bd01-dc940c42924b",
   "metadata": {},
   "outputs": [
    {
     "name": "stdout",
     "output_type": "stream",
     "text": [
      "Label: 1\n",
      "Text:\n",
      " b'This is a reunion, a team, and a great episode of Justice. From hesitation to resolution, Clark has made a important leap from a troubled teenager who was afraid of a controlled destiny, to a Superman who, like Green Arrow, sets aside his emotions to his few loved ones, ready to save the whole planet. This is not just a thrilling story about teamwork, loyalty, and friendship; this is also about deciding what\\'s more important in life, a lesson for Clark. I do not want the series to end, but I hope the ensuing episodes will strictly stick to what Justice shows without any \"rewind\" pushes and put a good end here of Smallville---and a wonderful beginning of Superman.<br /><br />In this episode, however, we should have seen more contrast between Lex and the Team. Nine stars should give it enough credit.'\n",
      "---------------------------\n",
      "Label: 1\n",
      "Text:\n",
      " b'\"Hey Babu Riba\" is a film about a young woman, Mariana (nicknamed \"Esther\" after a famous American movie star), and four young men, Glenn, Sacha, Kicha, and Pop, all perhaps 15-17 years old in 1953 Belgrade, Yugoslavia. The five are committed friends and crazy about jazz, blue jeans, or anything American it seems.<br /><br />The very close relationship of the teenagers is poignant, and ultimately a sacrifice is willingly made to try to help one of the group who has fallen on unexpected difficulties. In the wake of changing communist politics, they go their separate ways and reunite in 1985 (the year before the film was made).<br /><br />I enjoyed the film with some reservations. The subtitles for one thing were difficult. Especially in the beginning, there were a number of dialogues which had no subtitles at all. Perhaps the conversational pace required it, but I couldn\\'t always both read the text and absorb the scene, which caused me to not always understand which character was involved. I watched the movie (a video from our public library) with a friend, and neither of us really understood part of the story about acquiring streptomycin for a sick relative.<br /><br />This Yugoslavian coming of age film effectively conveyed the teenagers\\' sense of invulnerability, idealism, and strong and loyal bonds to each other. There is a main flashforward, and it was intriguing, keeping me guessing until the end as to who these characters were vis-a-vis the 1953 cast, and what had actually happened.<br /><br />I would rate it 7 out of 10, and would like to see other films by the director, Jovan Acin (1941-1991).'\n",
      "---------------------------\n",
      "Label: 1\n",
      "Text:\n",
      " b\"No message. No symbolism. No dark undercurrents.Just a wonderful melange of music, nostalgia and good fun put to-gether by people who obviously had a great time doing it. It's a refreshing antidote to some of the pretentious garbage being ground out by the studios. Of course ANYTHING with the incomparable Judi Dench is worth watching. And Cleo Laine's brilliant jazz singing is a bonus. This lady is in the same league as the late Ella. This goes on my movie shelf to be pulled out again anytime I feel the need for a warm experience and a hearty good natured chuckle. Just a wonderful film!\"\n",
      "---------------------------\n"
     ]
    }
   ],
   "source": [
    "for text_batch, label_batch in raw_training_set.take(1):\n",
    "    for text, label in list(zip(text_batch, label_batch))[:3]:\n",
    "        print(f\"Label: {label}\")\n",
    "        print(f\"Text:\\n {text}\")\n",
    "        print(\"---------------------------\")"
   ]
  },
  {
   "cell_type": "markdown",
   "id": "59de0508-3015-4361-9477-e17bb75e2ad5",
   "metadata": {},
   "source": [
    "## Prepare the data"
   ]
  },
  {
   "cell_type": "markdown",
   "id": "a3adcf7f-88ce-4f0b-98e7-21438e302b36",
   "metadata": {},
   "source": [
    "### Create custom function for cleaning input data"
   ]
  },
  {
   "cell_type": "code",
   "execution_count": 10,
   "id": "8aaf3a8b-f081-4937-9589-6012772261a9",
   "metadata": {},
   "outputs": [],
   "source": [
    "max_features = 1000\n",
    "\n",
    "\n",
    "def custom_standardization(input_data):\n",
    "    lowercase = tf.strings.lower(input_data)\n",
    "    stripped_html = tf.strings.regex_replace(lowercase, \"<br />\", \" \")\n",
    "    replaced = tf.strings.regex_replace(\n",
    "        stripped_html, \"[%s]\" % re.escape(string.punctuation), \"\"\n",
    "    )\n",
    "    return replaced"
   ]
  },
  {
   "cell_type": "markdown",
   "id": "c24bfebb-8951-4f58-b344-171b9380c40c",
   "metadata": {},
   "source": [
    "### Layer to convert text to vectors"
   ]
  },
  {
   "cell_type": "code",
   "execution_count": 11,
   "id": "3048686e-4c8e-4f65-940f-6978c1b2384a",
   "metadata": {},
   "outputs": [],
   "source": [
    "vectorize_layer = layers.TextVectorization(\n",
    "    standardize=custom_standardization,\n",
    "    max_tokens=max_features,\n",
    "    output_mode=\"int\",\n",
    "    output_sequence_length=250,\n",
    ")"
   ]
  },
  {
   "cell_type": "markdown",
   "id": "95a17b61-85e2-43d0-8169-485ea411e9ff",
   "metadata": {},
   "source": [
    "### Build vocabulary"
   ]
  },
  {
   "cell_type": "markdown",
   "id": "d0d0761e-4068-4f96-a37a-e32af963fadd",
   "metadata": {},
   "source": [
    "As the `raw_training_set` consist of both text and the labels and the `adapt` method of the `TextVectorization` class only takes the input text, we need to strip out the labels."
   ]
  },
  {
   "cell_type": "code",
   "execution_count": 12,
   "id": "12862706-718d-4991-8ff0-b27a4bf2069f",
   "metadata": {},
   "outputs": [],
   "source": [
    "train_text = raw_training_set.map(\n",
    "    lambda x, y: x\n",
    ")  # Extracts only the text from a item that corresponds to text, label"
   ]
  },
  {
   "cell_type": "code",
   "execution_count": 13,
   "id": "c5a0428e-ae6c-4795-bb9e-0adddafa16f3",
   "metadata": {},
   "outputs": [],
   "source": [
    "vectorize_layer.adapt(train_text)"
   ]
  },
  {
   "cell_type": "code",
   "execution_count": 14,
   "id": "411c76cb-763c-4002-8ef6-cc641bfd46ca",
   "metadata": {},
   "outputs": [
    {
     "name": "stdout",
     "output_type": "stream",
     "text": [
      "Vocabulary samples: ['', '[UNK]', 'the', 'a', 'and', 'of', 'to', 'is', 'in', 'it', 'this', 'i', 'that', 'was', 'as', 'for', 'with', 'movie', 'but', 'film']\n"
     ]
    }
   ],
   "source": [
    "print(f\"Vocabulary samples: {vectorize_layer.get_vocabulary()[0:20]}\")"
   ]
  },
  {
   "cell_type": "code",
   "execution_count": 15,
   "id": "5f492fe7-c1f5-479a-acc5-417bf266e281",
   "metadata": {},
   "outputs": [
    {
     "name": "stdout",
     "output_type": "stream",
     "text": [
      "Vocabulary length: 1000\n"
     ]
    }
   ],
   "source": [
    "print(f\"Vocabulary length: {len(vectorize_layer.get_vocabulary())}\")"
   ]
  },
  {
   "cell_type": "markdown",
   "id": "85eea85b-4df9-4f2a-b41a-2230f8f971c7",
   "metadata": {},
   "source": [
    "### Accomodate for batches by adding a dimension to dataset"
   ]
  },
  {
   "cell_type": "code",
   "execution_count": 16,
   "id": "dead7ff4-b70e-4cb2-9b93-f5a4a297308c",
   "metadata": {},
   "outputs": [],
   "source": [
    "def vectorize_text(text, label):\n",
    "    # Just transforms the data from a (x,) shape to (x, 1) shape as this is that the TextVectorization expects\n",
    "    text = tf.expand_dims(text, -1)\n",
    "    return (\n",
    "        vectorize_layer(text),\n",
    "        label,\n",
    "    )  # vectorize_layer takes one batch of size [32,1] and returns [32, 250] i.e string -> tokens"
   ]
  },
  {
   "cell_type": "code",
   "execution_count": 17,
   "id": "1ec91f65-14a0-4986-879e-ddcde3f440c0",
   "metadata": {},
   "outputs": [],
   "source": [
    "text_batch, label_batch = next(iter(raw_training_set))\n",
    "first_review, first_label = text_batch[0], label_batch[0]"
   ]
  },
  {
   "cell_type": "code",
   "execution_count": 18,
   "id": "82129174-6ff3-4086-934d-cea23799e487",
   "metadata": {},
   "outputs": [
    {
     "name": "stdout",
     "output_type": "stream",
     "text": [
      "First review:\n",
      ":b\"This movie is about a side of Ireland that Americans don't normally see, the narrow-minded religiously prejudiced side of the 'friendliest race in the world'. The movie, by the admission of the inhabitants of Fethard who are old enough to remember the events, is fairly accurate (though they insist that the film-makers invented some of the more violent scenes just to spice up the action).<br /><br />The movie was very unpopular in Ireland as it portrayed the Catholic church in a bad light, but the simple fact is that representatives of the Catholic church *did* organise vetoes of minorities (before Protestants it was the Jews).<br /><br />The film is a fascinating insight into the whole issue of religion in Ireland\"\n",
      "---------------\n",
      "First label: 1\n",
      "---------------\n",
      "Vectorized review 1:\n",
      "(<tf.Tensor: shape=(1, 250), dtype=int64, numpy=\n",
      "array([[ 10,  17,   7,  42,   3, 421,   5,   1,  12,   1,  87,   1,  65,\n",
      "          2,   1,   1,   1, 421,   5,   2,   1,   1,   8,   2, 185,   2,\n",
      "         17,  32,   2,   1,   5,   2,   1,   5,   1,  35,  24, 180, 181,\n",
      "          6, 352,   2, 638,   7,   1,   1, 148,  34,   1,  12,   2, 850,\n",
      "          1,  47,   5,   2,  50, 911, 132,  41,   6,   1,  57,   2, 224,\n",
      "          2,  17,  13,  52,   1,   8,   1,  14,   9, 898,   2,   1,   1,\n",
      "          8,   3,  81, 733,  18,   2, 631, 199,   7,  12,   1,   5,   2,\n",
      "          1,   1, 116,   1,   1,   5,   1, 147,   1,   9,  13,   2,   1,\n",
      "          2,  19,   7,   3,   1,   1,  77,   2, 211,   1,   5,   1,   8,\n",
      "          1,   0,   0,   0,   0,   0,   0,   0,   0,   0,   0,   0,   0,\n",
      "          0,   0,   0,   0,   0,   0,   0,   0,   0,   0,   0,   0,   0,\n",
      "          0,   0,   0,   0,   0,   0,   0,   0,   0,   0,   0,   0,   0,\n",
      "          0,   0,   0,   0,   0,   0,   0,   0,   0,   0,   0,   0,   0,\n",
      "          0,   0,   0,   0,   0,   0,   0,   0,   0,   0,   0,   0,   0,\n",
      "          0,   0,   0,   0,   0,   0,   0,   0,   0,   0,   0,   0,   0,\n",
      "          0,   0,   0,   0,   0,   0,   0,   0,   0,   0,   0,   0,   0,\n",
      "          0,   0,   0,   0,   0,   0,   0,   0,   0,   0,   0,   0,   0,\n",
      "          0,   0,   0,   0,   0,   0,   0,   0,   0,   0,   0,   0,   0,\n",
      "          0,   0,   0,   0,   0,   0,   0,   0,   0,   0,   0,   0,   0,\n",
      "          0,   0,   0]])>, <tf.Tensor: shape=(), dtype=int32, numpy=1>)\n",
      "---------------\n"
     ]
    }
   ],
   "source": [
    "print(f\"First review:\\n:{first_review}\")\n",
    "print(\"---------------\")\n",
    "print(f\"First label: {first_label}\")\n",
    "print(\"---------------\")\n",
    "print(f\"Vectorized review 1:\\n{vectorize_text(first_review, first_label)}\")\n",
    "print(\"---------------\")"
   ]
  },
  {
   "cell_type": "markdown",
   "id": "3bf6d9be-cfdc-4ffe-b836-1b85e8037f9c",
   "metadata": {},
   "source": [
    "### Create final train/val/test set"
   ]
  },
  {
   "cell_type": "code",
   "execution_count": 19,
   "id": "6267c5cd-3fb0-49b0-bc97-cf9619c79952",
   "metadata": {},
   "outputs": [],
   "source": [
    "train_ds = raw_training_set.map(vectorize_text)\n",
    "val_ds = raw_validation_set.map(vectorize_text)\n",
    "test_ds = raw_test_set.map(vectorize_text)"
   ]
  },
  {
   "cell_type": "markdown",
   "id": "2d488c46-225f-4687-bbad-2b4a87b5df00",
   "metadata": {},
   "source": [
    "### Configure dataset"
   ]
  },
  {
   "cell_type": "code",
   "execution_count": 20,
   "id": "ab0b7284-a79a-4f97-b23a-1cd3546d7f7e",
   "metadata": {},
   "outputs": [],
   "source": [
    "AUTOTUNE = tf.data.AUTOTUNE\n",
    "\n",
    "train_ds = train_ds.cache().prefetch(buffer_size=AUTOTUNE)\n",
    "test_ds = test_ds.cache().prefetch(buffer_size=AUTOTUNE)"
   ]
  },
  {
   "cell_type": "markdown",
   "id": "d6fb8388-7938-4705-b3c3-f50e43f3bc5b",
   "metadata": {},
   "source": [
    "## Create a sequential model"
   ]
  },
  {
   "cell_type": "markdown",
   "id": "692a0c4b-b9b1-48bd-92ed-48a44e2c7bb6",
   "metadata": {},
   "source": [
    "### Exploring the Sequential Model Architecture\n",
    "\n",
    "This TensorFlow model is structured to process sequences of text data by embedding tokens, averaging these embeddings, and finally classifying the averaged embeddings. Here's a detailed breakdown of each layer and its function within the model.\n",
    "\n",
    "#### 1. Embedding Layer\n",
    "\n",
    "```python\n",
    "layers.Embedding(max_features, embedding_dim)\n",
    "```\n",
    "\n",
    "**Purpose:** The Embedding layer is essential for handling large vocabularies in natural language processing. It maps each token, represented as an integer index, to a dense vector of fixed size `(embedding_dim)`.\n",
    "\n",
    "**Input:** The input to this layer is a batch of sequences, where each sequence contains indices ranging from `0` to `max_features - 1`. Each index corresponds to a token in the vocabulary.\n",
    "\n",
    "**Output Shape:** `[32, 250, 16]`. Each token in a sequence of 250 tokens (maximum sequence length) is transformed into an embedding of 16 dimensions. Therefore, a batch of 32 sequences results in an output tensor of shape `[32, 250, 16]`.\n",
    "\n",
    "The Embedding layer plays a crucial role in natural language processing models by transforming discrete, categorical data (token indices) into dense and continuous vectors. Here's how it processes a batch of input data:\n",
    "\n",
    "##### Input Data Structure\n",
    "\n",
    "- **Shape**: `[32, 250]`. This represents a batch where there are 32 sequences (such as sentences or paragraphs), and each sequence contains 250 tokens. These tokens are represented by integer indices that refer to a position in the model's vocabulary.\n",
    "- **Content**: Each entry in the batch is an integer between 0 and `max_features - 1`, where each integer corresponds to a unique token in the predefined vocabulary of the model.\n",
    "\n",
    "##### Embedding Layer Functionality\n",
    "\n",
    "- Configuration:\n",
    "    - max_features: The size of the vocabulary. This is the maximum number of distinct tokens that the model can handle.\n",
    "    - embedding_dim: The dimensionality of the embedding vectors. This parameter defines how many features each token will be represented with after passing through the Embedding layer.\n",
    "\n",
    "- Operation:\n",
    "    - When the input data (with indices) passes through the Embedding layer, each token index is looked up in an embedding matrix (of shape [max_features, embedding_dim]).\n",
    "    - This matrix contains a unique vector for each token index. The layer retrieves a specific vector for each token index found in the input batch.\n",
    "\n",
    "- Output:\n",
    "    - The result is a tensor of shape [32, 250, 16]. Here’s the breakdown:\n",
    "        - 32 corresponds to the number of sequences in the batch.\n",
    "        - 250 corresponds to the number of tokens per sequence.\n",
    "        - 16 is the embedding dimension, indicating that each token index from the input has been transformed into a 16-dimensional vector.\n",
    "\n",
    "##### Resulting Transformation\n",
    "The transformation from sparse indices to dense vectors enables the model to perform more nuanced and complex operations on the data. Each embedding vector captures semantic and syntactic properties of its corresponding token, allowing the model to understand and process language data more effectively.\n",
    "\n",
    "The output tensor from the Embedding layer now carries a rich representation of each token based on the learned embeddings, which significantly enhances the model's capability to capture relationships and patterns in the text data.\n",
    "This interaction between the input batch and the Embedding layer is fundamental in preparing the text data for subsequent layers and tasks in the model, such as classification, sentiment analysis, or language translation.\n",
    "\n"
   ]
  },
  {
   "cell_type": "code",
   "execution_count": 21,
   "id": "70bd7e5c-6453-46ad-a019-669f3f33549d",
   "metadata": {},
   "outputs": [
    {
     "data": {
      "text/html": [
       "<pre style=\"white-space:pre;overflow-x:auto;line-height:normal;font-family:Menlo,'DejaVu Sans Mono',consolas,'Courier New',monospace\"><span style=\"font-weight: bold\">Model: \"sequential\"</span>\n",
       "</pre>\n"
      ],
      "text/plain": [
       "\u001b[1mModel: \"sequential\"\u001b[0m\n"
      ]
     },
     "metadata": {},
     "output_type": "display_data"
    },
    {
     "data": {
      "text/html": [
       "<pre style=\"white-space:pre;overflow-x:auto;line-height:normal;font-family:Menlo,'DejaVu Sans Mono',consolas,'Courier New',monospace\">┏━━━━━━━━━━━━━━━━━━━━━━━━━━━━━━━━━┳━━━━━━━━━━━━━━━━━━━━━━━━┳━━━━━━━━━━━━━━━┓\n",
       "┃<span style=\"font-weight: bold\"> Layer (type)                    </span>┃<span style=\"font-weight: bold\"> Output Shape           </span>┃<span style=\"font-weight: bold\">       Param # </span>┃\n",
       "┡━━━━━━━━━━━━━━━━━━━━━━━━━━━━━━━━━╇━━━━━━━━━━━━━━━━━━━━━━━━╇━━━━━━━━━━━━━━━┩\n",
       "│ embedding (<span style=\"color: #0087ff; text-decoration-color: #0087ff\">Embedding</span>)           │ ?                      │   <span style=\"color: #00af00; text-decoration-color: #00af00\">0</span> (unbuilt) │\n",
       "├─────────────────────────────────┼────────────────────────┼───────────────┤\n",
       "│ global_average_pooling1d        │ ?                      │   <span style=\"color: #00af00; text-decoration-color: #00af00\">0</span> (unbuilt) │\n",
       "│ (<span style=\"color: #0087ff; text-decoration-color: #0087ff\">GlobalAveragePooling1D</span>)        │                        │               │\n",
       "├─────────────────────────────────┼────────────────────────┼───────────────┤\n",
       "│ dense (<span style=\"color: #0087ff; text-decoration-color: #0087ff\">Dense</span>)                   │ ?                      │   <span style=\"color: #00af00; text-decoration-color: #00af00\">0</span> (unbuilt) │\n",
       "└─────────────────────────────────┴────────────────────────┴───────────────┘\n",
       "</pre>\n"
      ],
      "text/plain": [
       "┏━━━━━━━━━━━━━━━━━━━━━━━━━━━━━━━━━┳━━━━━━━━━━━━━━━━━━━━━━━━┳━━━━━━━━━━━━━━━┓\n",
       "┃\u001b[1m \u001b[0m\u001b[1mLayer (type)                   \u001b[0m\u001b[1m \u001b[0m┃\u001b[1m \u001b[0m\u001b[1mOutput Shape          \u001b[0m\u001b[1m \u001b[0m┃\u001b[1m \u001b[0m\u001b[1m      Param #\u001b[0m\u001b[1m \u001b[0m┃\n",
       "┡━━━━━━━━━━━━━━━━━━━━━━━━━━━━━━━━━╇━━━━━━━━━━━━━━━━━━━━━━━━╇━━━━━━━━━━━━━━━┩\n",
       "│ embedding (\u001b[38;5;33mEmbedding\u001b[0m)           │ ?                      │   \u001b[38;5;34m0\u001b[0m (unbuilt) │\n",
       "├─────────────────────────────────┼────────────────────────┼───────────────┤\n",
       "│ global_average_pooling1d        │ ?                      │   \u001b[38;5;34m0\u001b[0m (unbuilt) │\n",
       "│ (\u001b[38;5;33mGlobalAveragePooling1D\u001b[0m)        │                        │               │\n",
       "├─────────────────────────────────┼────────────────────────┼───────────────┤\n",
       "│ dense (\u001b[38;5;33mDense\u001b[0m)                   │ ?                      │   \u001b[38;5;34m0\u001b[0m (unbuilt) │\n",
       "└─────────────────────────────────┴────────────────────────┴───────────────┘\n"
      ]
     },
     "metadata": {},
     "output_type": "display_data"
    },
    {
     "data": {
      "text/html": [
       "<pre style=\"white-space:pre;overflow-x:auto;line-height:normal;font-family:Menlo,'DejaVu Sans Mono',consolas,'Courier New',monospace\"><span style=\"font-weight: bold\"> Total params: </span><span style=\"color: #00af00; text-decoration-color: #00af00\">0</span> (0.00 B)\n",
       "</pre>\n"
      ],
      "text/plain": [
       "\u001b[1m Total params: \u001b[0m\u001b[38;5;34m0\u001b[0m (0.00 B)\n"
      ]
     },
     "metadata": {},
     "output_type": "display_data"
    },
    {
     "data": {
      "text/html": [
       "<pre style=\"white-space:pre;overflow-x:auto;line-height:normal;font-family:Menlo,'DejaVu Sans Mono',consolas,'Courier New',monospace\"><span style=\"font-weight: bold\"> Trainable params: </span><span style=\"color: #00af00; text-decoration-color: #00af00\">0</span> (0.00 B)\n",
       "</pre>\n"
      ],
      "text/plain": [
       "\u001b[1m Trainable params: \u001b[0m\u001b[38;5;34m0\u001b[0m (0.00 B)\n"
      ]
     },
     "metadata": {},
     "output_type": "display_data"
    },
    {
     "data": {
      "text/html": [
       "<pre style=\"white-space:pre;overflow-x:auto;line-height:normal;font-family:Menlo,'DejaVu Sans Mono',consolas,'Courier New',monospace\"><span style=\"font-weight: bold\"> Non-trainable params: </span><span style=\"color: #00af00; text-decoration-color: #00af00\">0</span> (0.00 B)\n",
       "</pre>\n"
      ],
      "text/plain": [
       "\u001b[1m Non-trainable params: \u001b[0m\u001b[38;5;34m0\u001b[0m (0.00 B)\n"
      ]
     },
     "metadata": {},
     "output_type": "display_data"
    }
   ],
   "source": [
    "embedding_dim = 16\n",
    "\n",
    "# Input for one batch: [32, 250]. Values are idx in the vocabulary\n",
    "model_sequential = tf.keras.Sequential(\n",
    "    [\n",
    "        # Shape [1000, 16].\n",
    "        layers.Embedding(max_features, embedding_dim),\n",
    "        # Output from Embedding layer is [32, 250, 16] (it just pulls an embedding vector for all values)\n",
    "        layers.GlobalAveragePooling1D(),\n",
    "        # Output from Pooling layer. It goes from representing one embedding vector per token to one embedding vector per sequence\n",
    "        # as it takes the average of embeddings vectors for each token in the sequence to build a embeddings vector per sequence\n",
    "        # Output shape is now [32, 16]\n",
    "        # The Dense layer has a weight matrix with shape [16,1]. Add the bias and  take the sigmoid\n",
    "        # And you will have 32 classifications\n",
    "        layers.Dense(1, activation=\"sigmoid\"),\n",
    "    ]\n",
    ")\n",
    "\n",
    "model_sequential.summary()"
   ]
  },
  {
   "cell_type": "markdown",
   "id": "9bdf67bc-5272-4ad2-87e3-ad52b80aae50",
   "metadata": {},
   "source": [
    "## Compile model"
   ]
  },
  {
   "cell_type": "code",
   "execution_count": 22,
   "id": "16a4b6ce-8541-41f2-999e-6553f4d00486",
   "metadata": {},
   "outputs": [],
   "source": [
    "model_sequential.compile(\n",
    "    loss=losses.BinaryCrossentropy(), optimizer=\"adam\", metrics=[\"accuracy\"]\n",
    ")"
   ]
  },
  {
   "cell_type": "markdown",
   "id": "7aa50ba5-5fac-4641-a554-32e3e7c5bbef",
   "metadata": {},
   "source": [
    "## Create a model using the functional API"
   ]
  },
  {
   "cell_type": "code",
   "execution_count": 23,
   "id": "1c03984b-4cd0-490d-a594-dd8c0cf86b51",
   "metadata": {},
   "outputs": [],
   "source": [
    "inputs = tf.keras.Input(shape=(None,))\n",
    "\n",
    "embedding = layers.Embedding(max_features, embedding_dim)\n",
    "x = embedding(inputs)\n",
    "\n",
    "pooling = layers.GlobalAveragePooling1D()\n",
    "x = pooling(x)\n",
    "\n",
    "outputs = layers.Dense(1, activation=\"sigmoid\")(x)"
   ]
  },
  {
   "cell_type": "code",
   "execution_count": 24,
   "id": "17c113b8-4017-4b2e-83bd-3d44b3183c7c",
   "metadata": {},
   "outputs": [
    {
     "data": {
      "text/html": [
       "<pre style=\"white-space:pre;overflow-x:auto;line-height:normal;font-family:Menlo,'DejaVu Sans Mono',consolas,'Courier New',monospace\"><span style=\"font-weight: bold\">Model: \"functional_1\"</span>\n",
       "</pre>\n"
      ],
      "text/plain": [
       "\u001b[1mModel: \"functional_1\"\u001b[0m\n"
      ]
     },
     "metadata": {},
     "output_type": "display_data"
    },
    {
     "data": {
      "text/html": [
       "<pre style=\"white-space:pre;overflow-x:auto;line-height:normal;font-family:Menlo,'DejaVu Sans Mono',consolas,'Courier New',monospace\">┏━━━━━━━━━━━━━━━━━━━━━━━━━━━━━━━━━┳━━━━━━━━━━━━━━━━━━━━━━━━┳━━━━━━━━━━━━━━━┓\n",
       "┃<span style=\"font-weight: bold\"> Layer (type)                    </span>┃<span style=\"font-weight: bold\"> Output Shape           </span>┃<span style=\"font-weight: bold\">       Param # </span>┃\n",
       "┡━━━━━━━━━━━━━━━━━━━━━━━━━━━━━━━━━╇━━━━━━━━━━━━━━━━━━━━━━━━╇━━━━━━━━━━━━━━━┩\n",
       "│ input_layer (<span style=\"color: #0087ff; text-decoration-color: #0087ff\">InputLayer</span>)        │ (<span style=\"color: #00d7ff; text-decoration-color: #00d7ff\">None</span>, <span style=\"color: #00d7ff; text-decoration-color: #00d7ff\">None</span>)           │             <span style=\"color: #00af00; text-decoration-color: #00af00\">0</span> │\n",
       "├─────────────────────────────────┼────────────────────────┼───────────────┤\n",
       "│ embedding_1 (<span style=\"color: #0087ff; text-decoration-color: #0087ff\">Embedding</span>)         │ (<span style=\"color: #00d7ff; text-decoration-color: #00d7ff\">None</span>, <span style=\"color: #00d7ff; text-decoration-color: #00d7ff\">None</span>, <span style=\"color: #00af00; text-decoration-color: #00af00\">16</span>)       │        <span style=\"color: #00af00; text-decoration-color: #00af00\">16,000</span> │\n",
       "├─────────────────────────────────┼────────────────────────┼───────────────┤\n",
       "│ global_average_pooling1d_1      │ (<span style=\"color: #00d7ff; text-decoration-color: #00d7ff\">None</span>, <span style=\"color: #00af00; text-decoration-color: #00af00\">16</span>)             │             <span style=\"color: #00af00; text-decoration-color: #00af00\">0</span> │\n",
       "│ (<span style=\"color: #0087ff; text-decoration-color: #0087ff\">GlobalAveragePooling1D</span>)        │                        │               │\n",
       "├─────────────────────────────────┼────────────────────────┼───────────────┤\n",
       "│ dense_1 (<span style=\"color: #0087ff; text-decoration-color: #0087ff\">Dense</span>)                 │ (<span style=\"color: #00d7ff; text-decoration-color: #00d7ff\">None</span>, <span style=\"color: #00af00; text-decoration-color: #00af00\">1</span>)              │            <span style=\"color: #00af00; text-decoration-color: #00af00\">17</span> │\n",
       "└─────────────────────────────────┴────────────────────────┴───────────────┘\n",
       "</pre>\n"
      ],
      "text/plain": [
       "┏━━━━━━━━━━━━━━━━━━━━━━━━━━━━━━━━━┳━━━━━━━━━━━━━━━━━━━━━━━━┳━━━━━━━━━━━━━━━┓\n",
       "┃\u001b[1m \u001b[0m\u001b[1mLayer (type)                   \u001b[0m\u001b[1m \u001b[0m┃\u001b[1m \u001b[0m\u001b[1mOutput Shape          \u001b[0m\u001b[1m \u001b[0m┃\u001b[1m \u001b[0m\u001b[1m      Param #\u001b[0m\u001b[1m \u001b[0m┃\n",
       "┡━━━━━━━━━━━━━━━━━━━━━━━━━━━━━━━━━╇━━━━━━━━━━━━━━━━━━━━━━━━╇━━━━━━━━━━━━━━━┩\n",
       "│ input_layer (\u001b[38;5;33mInputLayer\u001b[0m)        │ (\u001b[38;5;45mNone\u001b[0m, \u001b[38;5;45mNone\u001b[0m)           │             \u001b[38;5;34m0\u001b[0m │\n",
       "├─────────────────────────────────┼────────────────────────┼───────────────┤\n",
       "│ embedding_1 (\u001b[38;5;33mEmbedding\u001b[0m)         │ (\u001b[38;5;45mNone\u001b[0m, \u001b[38;5;45mNone\u001b[0m, \u001b[38;5;34m16\u001b[0m)       │        \u001b[38;5;34m16,000\u001b[0m │\n",
       "├─────────────────────────────────┼────────────────────────┼───────────────┤\n",
       "│ global_average_pooling1d_1      │ (\u001b[38;5;45mNone\u001b[0m, \u001b[38;5;34m16\u001b[0m)             │             \u001b[38;5;34m0\u001b[0m │\n",
       "│ (\u001b[38;5;33mGlobalAveragePooling1D\u001b[0m)        │                        │               │\n",
       "├─────────────────────────────────┼────────────────────────┼───────────────┤\n",
       "│ dense_1 (\u001b[38;5;33mDense\u001b[0m)                 │ (\u001b[38;5;45mNone\u001b[0m, \u001b[38;5;34m1\u001b[0m)              │            \u001b[38;5;34m17\u001b[0m │\n",
       "└─────────────────────────────────┴────────────────────────┴───────────────┘\n"
      ]
     },
     "metadata": {},
     "output_type": "display_data"
    },
    {
     "data": {
      "text/html": [
       "<pre style=\"white-space:pre;overflow-x:auto;line-height:normal;font-family:Menlo,'DejaVu Sans Mono',consolas,'Courier New',monospace\"><span style=\"font-weight: bold\"> Total params: </span><span style=\"color: #00af00; text-decoration-color: #00af00\">16,017</span> (62.57 KB)\n",
       "</pre>\n"
      ],
      "text/plain": [
       "\u001b[1m Total params: \u001b[0m\u001b[38;5;34m16,017\u001b[0m (62.57 KB)\n"
      ]
     },
     "metadata": {},
     "output_type": "display_data"
    },
    {
     "data": {
      "text/html": [
       "<pre style=\"white-space:pre;overflow-x:auto;line-height:normal;font-family:Menlo,'DejaVu Sans Mono',consolas,'Courier New',monospace\"><span style=\"font-weight: bold\"> Trainable params: </span><span style=\"color: #00af00; text-decoration-color: #00af00\">16,017</span> (62.57 KB)\n",
       "</pre>\n"
      ],
      "text/plain": [
       "\u001b[1m Trainable params: \u001b[0m\u001b[38;5;34m16,017\u001b[0m (62.57 KB)\n"
      ]
     },
     "metadata": {},
     "output_type": "display_data"
    },
    {
     "data": {
      "text/html": [
       "<pre style=\"white-space:pre;overflow-x:auto;line-height:normal;font-family:Menlo,'DejaVu Sans Mono',consolas,'Courier New',monospace\"><span style=\"font-weight: bold\"> Non-trainable params: </span><span style=\"color: #00af00; text-decoration-color: #00af00\">0</span> (0.00 B)\n",
       "</pre>\n"
      ],
      "text/plain": [
       "\u001b[1m Non-trainable params: \u001b[0m\u001b[38;5;34m0\u001b[0m (0.00 B)\n"
      ]
     },
     "metadata": {},
     "output_type": "display_data"
    }
   ],
   "source": [
    "model_functional = tf.keras.Model(inputs=inputs, outputs=outputs)\n",
    "model_functional.summary()"
   ]
  },
  {
   "cell_type": "code",
   "execution_count": 25,
   "id": "974031e3-93ab-4576-ac5e-b0f61b78a805",
   "metadata": {},
   "outputs": [],
   "source": [
    "model_functional.compile(\n",
    "    loss=losses.BinaryCrossentropy(), optimizer=\"adam\", metrics=[\"accuracy\"]\n",
    ")"
   ]
  },
  {
   "cell_type": "markdown",
   "id": "e03101f4-8bde-4607-8c9d-041158ebbac6",
   "metadata": {},
   "source": [
    "## Train the model"
   ]
  },
  {
   "cell_type": "code",
   "execution_count": 26,
   "id": "49e3f990-57e4-46e8-99c9-ccf1a4833831",
   "metadata": {},
   "outputs": [],
   "source": [
    "model = model_sequential"
   ]
  },
  {
   "cell_type": "code",
   "execution_count": 27,
   "id": "a4232c2b-8e3d-478c-9bea-699d768afa63",
   "metadata": {},
   "outputs": [
    {
     "name": "stdout",
     "output_type": "stream",
     "text": [
      "Epoch 1/20\n",
      "125/125 - 1s - 4ms/step - accuracy: 0.5315 - loss: 0.6906 - val_accuracy: 0.5960 - val_loss: 0.6851\n",
      "Epoch 2/20\n",
      "125/125 - 0s - 1ms/step - accuracy: 0.6008 - loss: 0.6811 - val_accuracy: 0.6270 - val_loss: 0.6737\n",
      "Epoch 3/20\n",
      "125/125 - 0s - 1ms/step - accuracy: 0.6390 - loss: 0.6674 - val_accuracy: 0.6850 - val_loss: 0.6571\n",
      "Epoch 4/20\n",
      "125/125 - 0s - 1ms/step - accuracy: 0.6697 - loss: 0.6484 - val_accuracy: 0.7010 - val_loss: 0.6360\n",
      "Epoch 5/20\n",
      "125/125 - 0s - 1ms/step - accuracy: 0.6915 - loss: 0.6259 - val_accuracy: 0.7190 - val_loss: 0.6124\n",
      "Epoch 6/20\n",
      "125/125 - 0s - 1ms/step - accuracy: 0.7163 - loss: 0.6012 - val_accuracy: 0.7380 - val_loss: 0.5881\n",
      "Epoch 7/20\n",
      "125/125 - 0s - 1ms/step - accuracy: 0.7350 - loss: 0.5757 - val_accuracy: 0.7590 - val_loss: 0.5646\n",
      "Epoch 8/20\n",
      "125/125 - 0s - 1ms/step - accuracy: 0.7580 - loss: 0.5505 - val_accuracy: 0.7750 - val_loss: 0.5428\n",
      "Epoch 9/20\n",
      "125/125 - 0s - 1ms/step - accuracy: 0.7770 - loss: 0.5268 - val_accuracy: 0.7850 - val_loss: 0.5232\n",
      "Epoch 10/20\n",
      "125/125 - 0s - 1ms/step - accuracy: 0.7940 - loss: 0.5051 - val_accuracy: 0.7980 - val_loss: 0.5060\n",
      "Epoch 11/20\n",
      "125/125 - 0s - 1ms/step - accuracy: 0.8052 - loss: 0.4857 - val_accuracy: 0.8040 - val_loss: 0.4910\n",
      "Epoch 12/20\n",
      "125/125 - 0s - 1ms/step - accuracy: 0.8123 - loss: 0.4684 - val_accuracy: 0.8060 - val_loss: 0.4781\n",
      "Epoch 13/20\n",
      "125/125 - 0s - 1ms/step - accuracy: 0.8195 - loss: 0.4532 - val_accuracy: 0.8090 - val_loss: 0.4668\n",
      "Epoch 14/20\n",
      "125/125 - 0s - 1ms/step - accuracy: 0.8242 - loss: 0.4396 - val_accuracy: 0.8140 - val_loss: 0.4571\n",
      "Epoch 15/20\n",
      "125/125 - 0s - 1ms/step - accuracy: 0.8307 - loss: 0.4275 - val_accuracy: 0.8170 - val_loss: 0.4486\n",
      "Epoch 16/20\n",
      "125/125 - 0s - 1ms/step - accuracy: 0.8332 - loss: 0.4167 - val_accuracy: 0.8220 - val_loss: 0.4413\n",
      "Epoch 17/20\n",
      "125/125 - 0s - 1ms/step - accuracy: 0.8388 - loss: 0.4069 - val_accuracy: 0.8230 - val_loss: 0.4349\n",
      "Epoch 18/20\n",
      "125/125 - 0s - 1ms/step - accuracy: 0.8453 - loss: 0.3980 - val_accuracy: 0.8260 - val_loss: 0.4294\n",
      "Epoch 19/20\n",
      "125/125 - 0s - 1ms/step - accuracy: 0.8490 - loss: 0.3899 - val_accuracy: 0.8270 - val_loss: 0.4245\n",
      "Epoch 20/20\n",
      "125/125 - 0s - 1ms/step - accuracy: 0.8503 - loss: 0.3825 - val_accuracy: 0.8290 - val_loss: 0.4203\n"
     ]
    }
   ],
   "source": [
    "epochs = 20\n",
    "\n",
    "history = model.fit(train_ds, validation_data=val_ds, epochs=epochs, verbose=2)"
   ]
  },
  {
   "cell_type": "code",
   "execution_count": 28,
   "id": "888535a5-0d9c-48b2-bc57-42d384ccd87c",
   "metadata": {},
   "outputs": [
    {
     "name": "stdout",
     "output_type": "stream",
     "text": [
      "\u001b[1m157/157\u001b[0m \u001b[32m━━━━━━━━━━━━━━━━━━━━\u001b[0m\u001b[37m\u001b[0m \u001b[1m0s\u001b[0m 1ms/step - accuracy: 0.8106 - loss: 0.4240\n"
     ]
    }
   ],
   "source": [
    "loss, accuracy = model.evaluate(test_ds)"
   ]
  },
  {
   "cell_type": "code",
   "execution_count": 29,
   "id": "3ee93ebc-394b-42d2-b56e-0c8a2e6a634a",
   "metadata": {},
   "outputs": [
    {
     "data": {
      "image/png": "[encoded data removed]",
      "text/plain": [
       "<Figure size 640x480 with 1 Axes>"
      ]
     },
     "metadata": {},
     "output_type": "display_data"
    },
    {
     "data": {
      "image/png": "[encoded data removed]",
      "text/plain": [
       "<Figure size 640x480 with 1 Axes>"
      ]
     },
     "metadata": {},
     "output_type": "display_data"
    }
   ],
   "source": [
    "def plot_metrics(history, metric):\n",
    "    plt.plot(history.history[metric])\n",
    "    plt.plot(history.history[f\"val_{metric}\"])\n",
    "    plt.xlabel(\"Epochs\")\n",
    "    plt.ylabel(metric.title())\n",
    "    plt.legend([metric, f\"val_{metric}\"])\n",
    "    plt.show()\n",
    "\n",
    "\n",
    "plot_metrics(history, \"accuracy\")\n",
    "plot_metrics(history, \"loss\")"
   ]
  },
  {
   "cell_type": "code",
   "execution_count": null,
   "id": "c64712a1-4be3-40aa-9fde-f88a39d5c36c",
   "metadata": {},
   "outputs": [],
   "source": []
  }
 ],
 "metadata": {
  "kernelspec": {
   "display_name": "Python 3 (ipykernel)",
   "language": "python",
   "name": "python3"
  },
  "language_info": {
   "codemirror_mode": {
    "name": "ipython",
    "version": 3
   },
   "file_extension": ".py",
   "mimetype": "text/x-python",
   "name": "python",
   "nbconvert_exporter": "python",
   "pygments_lexer": "ipython3",
   "version": "3.11.7"
  }
 },
 "nbformat": 4,
 "nbformat_minor": 5
}
