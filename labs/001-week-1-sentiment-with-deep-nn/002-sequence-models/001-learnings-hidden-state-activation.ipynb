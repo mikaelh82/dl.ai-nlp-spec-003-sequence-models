{
 "cells": [
  {
   "cell_type": "markdown",
   "id": "c8c2254a-0fa9-49f5-bf46-f10778ef609b",
   "metadata": {},
   "source": [
    "# Hidden state activation"
   ]
  },
  {
   "cell_type": "code",
   "execution_count": 1,
   "id": "26057607-2d6a-470c-96f6-813588a8209c",
   "metadata": {},
   "outputs": [],
   "source": [
    "import numpy as np"
   ]
  },
  {
   "cell_type": "markdown",
   "id": "184b4ca2-4d3b-46dd-af29-20071e6e9a24",
   "metadata": {},
   "source": [
    "## Activations"
   ]
  },
  {
   "cell_type": "markdown",
   "id": "fecc0844-f72e-461d-8885-6ce8e9325952",
   "metadata": {},
   "source": [
    "$h^{<t>}=g(W_{h}[h^{<t-1>},x^{<t>}] + b_h)$                                                    \n",
    "\n",
    "Or you can write it like this:         \n",
    "\n",
    "$h^{<t>}=g(W_{hh}h^{<t-1>} + W_{hx}x^{<t>} + b_h)$                                        \n"
   ]
  },
  {
   "cell_type": "markdown",
   "id": "54b10557-dbca-472b-a787-01ad9bb89f5f",
   "metadata": {},
   "source": [
    "## Joining matrixes - horizontal stack\n",
    "\n",
    "$W_h = \\left [ W_{hh} \\ | \\ W_{hx} \\right ]$"
   ]
  },
  {
   "cell_type": "code",
   "execution_count": 2,
   "id": "93209545-00fb-44a3-bfc7-0f262c720c79",
   "metadata": {},
   "outputs": [],
   "source": [
    "w_hh = np.full((3,2), 1)\n",
    "w_hx = np.full((3,3), 9)"
   ]
  },
  {
   "cell_type": "code",
   "execution_count": 3,
   "id": "62d23baa-6b1c-4df9-917b-1bbbd31baca7",
   "metadata": {},
   "outputs": [
    {
     "data": {
      "text/plain": [
       "array([[1, 1],\n",
       "       [1, 1],\n",
       "       [1, 1]])"
      ]
     },
     "execution_count": 3,
     "metadata": {},
     "output_type": "execute_result"
    }
   ],
   "source": [
    "w_hh"
   ]
  },
  {
   "cell_type": "code",
   "execution_count": 4,
   "id": "080e7438-2ece-4163-9de8-9e6025313a2a",
   "metadata": {},
   "outputs": [
    {
     "data": {
      "text/plain": [
       "array([[9, 9, 9],\n",
       "       [9, 9, 9],\n",
       "       [9, 9, 9]])"
      ]
     },
     "execution_count": 4,
     "metadata": {},
     "output_type": "execute_result"
    }
   ],
   "source": [
    "w_hx"
   ]
  },
  {
   "cell_type": "markdown",
   "id": "54c018fd-0aa4-4aa2-bcfc-c70498eddf8e",
   "metadata": {},
   "source": [
    "### Method 1: Use `np.concatenate()`"
   ]
  },
  {
   "cell_type": "code",
   "execution_count": 5,
   "id": "95b43103-4e93-4b79-90e4-9680b454f525",
   "metadata": {},
   "outputs": [],
   "source": [
    "w_h1 = np.concatenate((w_hh, w_hx), axis=1)"
   ]
  },
  {
   "cell_type": "code",
   "execution_count": 6,
   "id": "89482a52-8f37-4b9d-be29-fedc1b68624c",
   "metadata": {},
   "outputs": [
    {
     "data": {
      "text/plain": [
       "array([[1, 1, 9, 9, 9],\n",
       "       [1, 1, 9, 9, 9],\n",
       "       [1, 1, 9, 9, 9]])"
      ]
     },
     "execution_count": 6,
     "metadata": {},
     "output_type": "execute_result"
    }
   ],
   "source": [
    "w_h1"
   ]
  },
  {
   "cell_type": "markdown",
   "id": "e5242c31-b946-41b2-9dd4-4ba467b30929",
   "metadata": {},
   "source": [
    "### Method 2: Use `np.hstack()`"
   ]
  },
  {
   "cell_type": "code",
   "execution_count": 7,
   "id": "0666f856-8156-49d4-9c1d-050d8c050a2f",
   "metadata": {},
   "outputs": [],
   "source": [
    "w_h2 = np.hstack((w_hh, w_hx))"
   ]
  },
  {
   "cell_type": "code",
   "execution_count": 8,
   "id": "e64729b2-a300-44f1-9e74-0986ca0e6430",
   "metadata": {},
   "outputs": [
    {
     "data": {
      "text/plain": [
       "array([[1, 1, 9, 9, 9],\n",
       "       [1, 1, 9, 9, 9],\n",
       "       [1, 1, 9, 9, 9]])"
      ]
     },
     "execution_count": 8,
     "metadata": {},
     "output_type": "execute_result"
    }
   ],
   "source": [
    "w_h2"
   ]
  },
  {
   "cell_type": "markdown",
   "id": "3ba3e1f2-68b3-4853-8ca0-16113403de57",
   "metadata": {},
   "source": [
    "## Joining matrixes - vertical stack"
   ]
  },
  {
   "cell_type": "markdown",
   "id": "f3be2844-0812-4fde-a15b-cd091be0e2cb",
   "metadata": {},
   "source": [
    "$[h^{<t-1>},x^{<t>}] = \\left[ \\frac{h^{<t-1>}}{x^{<t>}} \\right]$"
   ]
  },
  {
   "cell_type": "code",
   "execution_count": 9,
   "id": "37f847cb-d89a-4e14-acbf-6687e83fee85",
   "metadata": {},
   "outputs": [],
   "source": [
    "h_t_prev = np.full((2,1), 1)\n",
    "x_t = np.full((3,1), 9)"
   ]
  },
  {
   "cell_type": "code",
   "execution_count": 10,
   "id": "abb10c2b-f305-4208-ab96-b339d42dd9f3",
   "metadata": {},
   "outputs": [
    {
     "data": {
      "text/plain": [
       "array([[1],\n",
       "       [1]])"
      ]
     },
     "execution_count": 10,
     "metadata": {},
     "output_type": "execute_result"
    }
   ],
   "source": [
    "h_t_prev"
   ]
  },
  {
   "cell_type": "code",
   "execution_count": 11,
   "id": "8abc91ae-8e12-44a9-a448-8d00a394e025",
   "metadata": {},
   "outputs": [
    {
     "data": {
      "text/plain": [
       "array([[9],\n",
       "       [9],\n",
       "       [9]])"
      ]
     },
     "execution_count": 11,
     "metadata": {},
     "output_type": "execute_result"
    }
   ],
   "source": [
    "x_t"
   ]
  },
  {
   "cell_type": "markdown",
   "id": "1c029fa4-6188-493a-bfed-7a30fdbb3858",
   "metadata": {},
   "source": [
    "### Method 1: Use `np.concatenate()`"
   ]
  },
  {
   "cell_type": "code",
   "execution_count": 12,
   "id": "93ba0418-8828-4afd-820f-63f2018cc0b1",
   "metadata": {},
   "outputs": [],
   "source": [
    "ax_1 = np.concatenate((h_t_prev, x_t), axis=0)"
   ]
  },
  {
   "cell_type": "code",
   "execution_count": 13,
   "id": "5848d2f8-be73-4452-a8ae-81a1aba45da6",
   "metadata": {},
   "outputs": [
    {
     "data": {
      "text/plain": [
       "array([[1],\n",
       "       [1],\n",
       "       [9],\n",
       "       [9],\n",
       "       [9]])"
      ]
     },
     "execution_count": 13,
     "metadata": {},
     "output_type": "execute_result"
    }
   ],
   "source": [
    "ax_1"
   ]
  },
  {
   "cell_type": "markdown",
   "id": "b8edc439-5464-4ee9-bb16-a4e79e176825",
   "metadata": {},
   "source": [
    "### Method 3: Use `np.vstack()`"
   ]
  },
  {
   "cell_type": "code",
   "execution_count": 14,
   "id": "1bf9b360-71ca-4343-8b0b-12fcc18b7371",
   "metadata": {},
   "outputs": [],
   "source": [
    "ax_2 = np.vstack((h_t_prev, x_t))"
   ]
  },
  {
   "cell_type": "code",
   "execution_count": 15,
   "id": "0fdc008b-ae5b-4708-b052-9bfc9b538fd4",
   "metadata": {},
   "outputs": [
    {
     "data": {
      "text/plain": [
       "array([[1],\n",
       "       [1],\n",
       "       [9],\n",
       "       [9],\n",
       "       [9]])"
      ]
     },
     "execution_count": 15,
     "metadata": {},
     "output_type": "execute_result"
    }
   ],
   "source": [
    "ax_2"
   ]
  },
  {
   "cell_type": "markdown",
   "id": "610c66a4-c86a-409b-9be0-6f03d0d651b1",
   "metadata": {},
   "source": [
    "## Verify formulas\n",
    "\n",
    "Now you know how to do the concatenations, horizontal and vertical, lets verify if the two formulas produce the same result.\n",
    "\n",
    "__Formula 1:__ $h^{<t>}=g(W_{h}[h^{<t-1>},x^{<t>}] + b_h)$ \n",
    "\n",
    "__Formula 2:__ $h^{<t>}=g(W_{hh}h^{<t-1>} + W_{hx}x^{<t>} + b_h)$\n",
    "\n",
    "\n",
    "To prove: __Formula 1__ $\\Leftrightarrow$ __Formula 2__\n",
    "\n",
    "You will ignore the bias term $b_h$ and the activation function $g(\\ )$ because the transformation will be identical for each formula. So what we really want to compare is the result of the following parameters inside each formula:\n",
    "\n",
    "$W_{h}[h^{<t-1>},x^{<t>}] \\quad \\Leftrightarrow \\quad W_{hh}h^{<t-1>} + W_{hx}x^{<t>} $\n",
    "\n",
    "You will do this by using matrix multiplication combined with the data and techniques (stacking/concatenating) from above.\n",
    "\n",
    "* Try adding a sigmoid activation function and bias term to the checks for completeness.\n"
   ]
  },
  {
   "cell_type": "code",
   "execution_count": 17,
   "id": "f4a549b4-7392-444f-9fb2-51870bec90fd",
   "metadata": {},
   "outputs": [],
   "source": [
    "w_hh = np.full((3,2), 1)\n",
    "w_hx = np.full((3,3), 9)\n",
    "h_t_prev = np.full((2,1), 1)\n",
    "x_t = np.full((3,1), 9)"
   ]
  },
  {
   "cell_type": "markdown",
   "id": "3473a317-2b55-4ff6-b7dd-01d2d72caff7",
   "metadata": {},
   "source": [
    "### Formula 1 verification"
   ]
  },
  {
   "cell_type": "code",
   "execution_count": 26,
   "id": "2f9fc9fa-cfb3-44a4-91d9-1b959e4b796b",
   "metadata": {},
   "outputs": [],
   "source": [
    "stack_1 = np.hstack((w_hh, w_hx))"
   ]
  },
  {
   "cell_type": "code",
   "execution_count": 32,
   "id": "4aaa856c-a47a-491a-96ab-c558f780b34d",
   "metadata": {},
   "outputs": [
    {
     "name": "stdout",
     "output_type": "stream",
     "text": [
      "Stack 1:\n",
      " [[1 1 9 9 9]\n",
      " [1 1 9 9 9]\n",
      " [1 1 9 9 9]]\n",
      "\n",
      "Stack 1 (Shape): (3, 5)\n"
     ]
    }
   ],
   "source": [
    "print(f\"Stack 1:\\n {stack_1}\")\n",
    "print()\n",
    "print(f\"Stack 1 (Shape): {stack_1.shape}\")"
   ]
  },
  {
   "cell_type": "code",
   "execution_count": 33,
   "id": "da4c2677-2f8e-4e28-96a7-7dc36cf09f41",
   "metadata": {},
   "outputs": [],
   "source": [
    "stack_2 = np.vstack((h_t_prev, x_t))"
   ]
  },
  {
   "cell_type": "code",
   "execution_count": 34,
   "id": "2fed5719-9e3f-4134-a46a-f1c7c86ff1ca",
   "metadata": {},
   "outputs": [
    {
     "name": "stdout",
     "output_type": "stream",
     "text": [
      "Stack 2:\n",
      " [[1]\n",
      " [1]\n",
      " [9]\n",
      " [9]\n",
      " [9]]\n",
      "\n",
      "Stack 2 (Shape): (5, 1)\n"
     ]
    }
   ],
   "source": [
    "print(f\"Stack 2:\\n {stack_2}\")\n",
    "print()\n",
    "print(f\"Stack 2 (Shape): {stack_2.shape}\")"
   ]
  },
  {
   "cell_type": "code",
   "execution_count": 20,
   "id": "794e7793-0fcc-4d10-8962-5f5e3bb06550",
   "metadata": {},
   "outputs": [],
   "source": [
    "formula_1 = stack_1 @ stack_2"
   ]
  },
  {
   "cell_type": "code",
   "execution_count": 35,
   "id": "249721c5-a529-46fd-8ab8-410aed9f1019",
   "metadata": {},
   "outputs": [
    {
     "name": "stdout",
     "output_type": "stream",
     "text": [
      "Formula 1:\n",
      " [[245]\n",
      " [245]\n",
      " [245]]\n",
      "\n",
      "Formula 1 (Shape): (3, 1)\n"
     ]
    }
   ],
   "source": [
    "print(f\"Formula 1:\\n {formula_1}\")\n",
    "print()\n",
    "print(f\"Formula 1 (Shape): {formula_1.shape}\")"
   ]
  },
  {
   "cell_type": "markdown",
   "id": "98dfe4b6-a9f1-4530-9137-77f57a1f7b90",
   "metadata": {},
   "source": [
    "## Formula 2 verification"
   ]
  },
  {
   "cell_type": "code",
   "execution_count": 37,
   "id": "21c1298e-a106-44ec-bed5-ebf97173de55",
   "metadata": {},
   "outputs": [],
   "source": [
    "mul_1 = w_hh @ h_t_prev"
   ]
  },
  {
   "cell_type": "code",
   "execution_count": 38,
   "id": "58d3ebac-213b-44ff-9ca4-8a5aa9ebb799",
   "metadata": {},
   "outputs": [
    {
     "name": "stdout",
     "output_type": "stream",
     "text": [
      "Mul 1:\n",
      " [[2]\n",
      " [2]\n",
      " [2]]\n",
      "\n",
      "Mul 1 (Shape): (3, 1)\n"
     ]
    }
   ],
   "source": [
    "print(f\"Mul 1:\\n {mul_1}\")\n",
    "print()\n",
    "print(f\"Mul 1 (Shape): {mul_1.shape}\")"
   ]
  },
  {
   "cell_type": "code",
   "execution_count": 39,
   "id": "6f0ec61a-ba39-4db7-80a5-f968b12550e6",
   "metadata": {},
   "outputs": [],
   "source": [
    "mul_2 = w_hx @ x_t"
   ]
  },
  {
   "cell_type": "code",
   "execution_count": 40,
   "id": "492cd655-2727-4f15-ab1a-aae75276950a",
   "metadata": {},
   "outputs": [
    {
     "name": "stdout",
     "output_type": "stream",
     "text": [
      "Mul 2:\n",
      " [[243]\n",
      " [243]\n",
      " [243]]\n",
      "\n",
      "Mul 2 (Shape): (3, 1)\n"
     ]
    }
   ],
   "source": [
    "print(f\"Mul 2:\\n {mul_2}\")\n",
    "print()\n",
    "print(f\"Mul 2 (Shape): {mul_2.shape}\")"
   ]
  },
  {
   "cell_type": "code",
   "execution_count": 41,
   "id": "cf536042-8194-4c9b-8939-fdf949fef729",
   "metadata": {},
   "outputs": [],
   "source": [
    "formula_2 = mul_1 + mul_2"
   ]
  },
  {
   "cell_type": "code",
   "execution_count": 42,
   "id": "1e614bda-c099-4b21-a148-386c776e305d",
   "metadata": {},
   "outputs": [
    {
     "name": "stdout",
     "output_type": "stream",
     "text": [
      "Formula 2:\n",
      " [[245]\n",
      " [245]\n",
      " [245]]\n",
      "\n",
      "Formula 2 (Shape): (3, 1)\n"
     ]
    }
   ],
   "source": [
    "print(f\"Formula 2:\\n {formula_2}\")\n",
    "print()\n",
    "print(f\"Formula 2 (Shape): {formula_2.shape}\")"
   ]
  },
  {
   "cell_type": "markdown",
   "id": "264a40c9-aa72-4cf9-8c5a-d920a2d47102",
   "metadata": {},
   "source": [
    "## Conclusion\n",
    "\n",
    "They are the same!!"
   ]
  },
  {
   "cell_type": "code",
   "execution_count": null,
   "id": "058d35dc-2dea-47b9-b700-00fb12af37cd",
   "metadata": {},
   "outputs": [],
   "source": []
  }
 ],
 "metadata": {
  "kernelspec": {
   "display_name": "Python 3 (ipykernel)",
   "language": "python",
   "name": "python3"
  },
  "language_info": {
   "codemirror_mode": {
    "name": "ipython",
    "version": 3
   },
   "file_extension": ".py",
   "mimetype": "text/x-python",
   "name": "python",
   "nbconvert_exporter": "python",
   "pygments_lexer": "ipython3",
   "version": "3.11.7"
  }
 },
 "nbformat": 4,
 "nbformat_minor": 5
}
