{
 "cells": [
  {
   "cell_type": "markdown",
   "id": "6cb6355f-76e2-444c-ae51-be8aebde8486",
   "metadata": {},
   "source": [
    "# Calculating perplexity"
   ]
  },
  {
   "cell_type": "code",
   "execution_count": 1,
   "id": "3692f424-c9f2-4111-9d1f-09bc8522c55b",
   "metadata": {},
   "outputs": [],
   "source": [
    "import numpy as np\n",
    "\n",
    "# Setting random seeds\n",
    "np.random.seed(32)"
   ]
  },
  {
   "cell_type": "code",
   "execution_count": 18,
   "id": "f0fddc04-d3ac-4563-b3ac-dbbc39bde7d9",
   "metadata": {},
   "outputs": [
    {
     "name": "stdout",
     "output_type": "stream",
     "text": [
      "predictions has shape: (32, 64, 256)\n"
     ]
    },
    {
     "data": {
      "text/plain": [
       "array([[-15.579997, -25.735575, -15.576893, ..., -15.574669, -15.571493,\n",
       "        -15.569425],\n",
       "       [-24.01082 , -35.80076 , -23.743649, ..., -23.807941, -23.727554,\n",
       "        -23.804428],\n",
       "       [-15.783699, -14.416848, -15.512791, ..., -15.729168, -15.671564,\n",
       "        -15.53212 ],\n",
       "       ...,\n",
       "       [-22.37673 , -29.096514, -22.266487, ..., -22.157543, -22.212416,\n",
       "        -22.285917],\n",
       "       [-23.18771 , -39.62314 , -23.07188 , ..., -23.058746, -22.928747,\n",
       "        -23.131004],\n",
       "       [-21.843483, -26.035233, -21.877586, ..., -21.576801, -21.74238 ,\n",
       "        -21.694439]], dtype=float32)"
      ]
     },
     "execution_count": 18,
     "metadata": {},
     "output_type": "execute_result"
    }
   ],
   "source": [
    "# Load from .npy files\n",
    "predictions = np.load('predictions.npy')\n",
    "targets = np.load('targets.npy')\n",
    "\n",
    "# Print shapes\n",
    "print(f'predictions has shape: {predictions.shape}')\n",
    "predictions[0]"
   ]
  },
  {
   "cell_type": "markdown",
   "id": "4c533585-d305-47d8-ad61-5f48dfa71f72",
   "metadata": {},
   "source": [
    "So, this means that if the predictions matrix has a shape of [32, 64, 256], it indicates there are 32 sentences (sequences), where each sentence can be represented by a maximum of 64 tokens. If a sentence contains fewer than 64 tokens, the remaining slots will be padded, typically with zero vectors in this context. Each token is associated with a vocabulary index ranging from 0 to 255. Therefore, each token in a sentence is represented by a vector of length 256, where each element in this vector is the log probability that the corresponding vocabulary word (indexed from 0 to 255) is actually the word at that position in the sentence."
   ]
  },
  {
   "cell_type": "markdown",
   "id": "ebb061a2-4b9e-497b-bb95-9e0f5a598672",
   "metadata": {},
   "source": [
    "The code below calculates the probabilities for the first token in the second sentence, showing which vocabulary word the model predicts this token to be:\n"
   ]
  },
  {
   "cell_type": "code",
   "execution_count": 21,
   "id": "a275a31f-9f30-418d-83c7-5b42d0143cda",
   "metadata": {},
   "outputs": [],
   "source": [
    "prob_preds = np.exp(predictions[1, 1])"
   ]
  },
  {
   "cell_type": "markdown",
   "id": "86466557-936a-45cf-8a06-99866cc376fe",
   "metadata": {},
   "source": [
    "So, as shown below, the token with the highest probability (the predicted token) has the index 110 in the vocabulary"
   ]
  },
  {
   "cell_type": "code",
   "execution_count": 23,
   "id": "4ac7ab2a-230b-4b90-bc4b-57f2ce42c206",
   "metadata": {},
   "outputs": [
    {
     "data": {
      "text/plain": [
       "110"
      ]
     },
     "execution_count": 23,
     "metadata": {},
     "output_type": "execute_result"
    }
   ],
   "source": [
    "np.argmax(prob_preds)"
   ]
  },
  {
   "cell_type": "code",
   "execution_count": 24,
   "id": "fe2697e5-4197-4525-9011-3a2f0c6eaad9",
   "metadata": {},
   "outputs": [
    {
     "name": "stdout",
     "output_type": "stream",
     "text": [
      "targets has shape: (32, 64)\n"
     ]
    }
   ],
   "source": [
    "print(f'targets has shape: {targets.shape}')"
   ]
  },
  {
   "cell_type": "markdown",
   "id": "59790872-bf7e-4c94-9873-3c7b80bb1a5a",
   "metadata": {},
   "source": [
    "Since the target array has a shape of (32, 64), this means that, for example, targets[1, 1] represents the second token in the second sentence as a number between 0 and 255. We need to transform this representation from a single number within 0 to 255 to a one-hot vector of length 256. In this vector, the index corresponding to the number (for instance, index 110) will have a value of 1, and all other positions will be 0.\""
   ]
  },
  {
   "cell_type": "code",
   "execution_count": 26,
   "id": "59815464-674c-4f58-bbed-268fbbcdb9f9",
   "metadata": {},
   "outputs": [
    {
     "data": {
      "text/plain": [
       "110"
      ]
     },
     "execution_count": 26,
     "metadata": {},
     "output_type": "execute_result"
    }
   ],
   "source": [
    "targets[1, 1]"
   ]
  },
  {
   "cell_type": "markdown",
   "id": "e52f561d-ed46-4e1d-9b94-56db0fe7022f",
   "metadata": {},
   "source": [
    "To transform it from a number between 0 - 255 to a one-hot vector, we can use the function `np.eye()` which generates a diagonal matrix."
   ]
  },
  {
   "cell_type": "code",
   "execution_count": 40,
   "id": "c7a6a156-f749-43e4-8748-fbe28c440b19",
   "metadata": {},
   "outputs": [
    {
     "data": {
      "text/plain": [
       "(32, 64, 256)"
      ]
     },
     "execution_count": 40,
     "metadata": {},
     "output_type": "execute_result"
    }
   ],
   "source": [
    "predictions.shape"
   ]
  },
  {
   "cell_type": "code",
   "execution_count": 31,
   "id": "d2315cae-7e5f-4d70-988f-e519a9a43eac",
   "metadata": {},
   "outputs": [
    {
     "data": {
      "text/plain": [
       "array([[105, 110,  32, ...,   0,   0,   0],\n",
       "       [ 97, 110, 110, ...,   0,   0,   0],\n",
       "       [111, 102,  32, ...,   0,   0,   0],\n",
       "       ...,\n",
       "       [105,  32,  97, ...,   0,   0,   0],\n",
       "       [101, 100, 103, ...,   0,   0,   0],\n",
       "       [121, 111, 117, ...,   0,   0,   0]], dtype=int32)"
      ]
     },
     "execution_count": 31,
     "metadata": {},
     "output_type": "execute_result"
    }
   ],
   "source": [
    "targets"
   ]
  },
  {
   "cell_type": "code",
   "execution_count": 10,
   "id": "860aca5c-1ff4-4036-bcf6-fdfd1dd61e3d",
   "metadata": {},
   "outputs": [],
   "source": [
    "reshaphed_targets = np.eye(predictions.shape[-1])[targets]"
   ]
  },
  {
   "cell_type": "code",
   "execution_count": 11,
   "id": "d7540226-1b59-49a2-8e05-6fa8ff131080",
   "metadata": {},
   "outputs": [
    {
     "data": {
      "text/plain": [
       "(32, 64, 256)"
      ]
     },
     "execution_count": 11,
     "metadata": {},
     "output_type": "execute_result"
    }
   ],
   "source": [
    "reshaphed_targets.shape"
   ]
  },
  {
   "cell_type": "markdown",
   "id": "adc42f7b-8c18-4522-a76e-3ce8d4b5055a",
   "metadata": {},
   "source": [
    "## Simplified example of above"
   ]
  },
  {
   "cell_type": "code",
   "execution_count": 59,
   "id": "ac89e9d9-a152-44e9-bad3-631c97fe1821",
   "metadata": {},
   "outputs": [],
   "source": [
    "fake_targets = np.array([\n",
    "                [0, 2],\n",
    "                [3, 1]\n",
    "               ])"
   ]
  },
  {
   "cell_type": "code",
   "execution_count": 60,
   "id": "27f2eef5-f99d-409e-9f36-d9837fd7d660",
   "metadata": {},
   "outputs": [
    {
     "data": {
      "text/plain": [
       "(2, 2)"
      ]
     },
     "execution_count": 60,
     "metadata": {},
     "output_type": "execute_result"
    }
   ],
   "source": [
    "fake_targets.shape"
   ]
  },
  {
   "cell_type": "markdown",
   "id": "2baacf89-0c1d-40f0-afeb-ad3ba8324158",
   "metadata": {},
   "source": [
    "This means that we have two sentences where sentence number one has two tokens where the first token is the token with index 0 in the vocalbulary and the second token is token with index nr 2 in the vocalbulary and vice versa for sentence nr 2. Lets just assume that our vocalbulary has the size of 4."
   ]
  },
  {
   "cell_type": "markdown",
   "id": "bad68315-9266-49a2-a360-0fc368df26d4",
   "metadata": {},
   "source": [
    "### Problem\n",
    "\n",
    "We now want to replace the number that represents the index of a token in the vocabulary with a one-hot vector. The one-hot vector will have the same length as the vocabulary. For example:\n",
    "\n",
    "- `fake_targets[0,0]` would then be `[1, 0, 0, 0]`.\n",
    "- `fake_targets[0,1]` would be `[0, 0, 1, 0]`.\n",
    "- `fake_targets[1,0]` would be `[0, 0, 0, 1]`.\n",
    "- `fake_targets[1,1]` would be `[0, 1, 0, 0]`."
   ]
  },
  {
   "cell_type": "markdown",
   "id": "21c44d6a-799c-42ca-9d99-3798b5400df9",
   "metadata": {},
   "source": [
    "### Solution\n",
    "\n",
    "The way we can do this is with help of numpys `fancy indexing` utlising a identity matrix of the size of the vocalbulary."
   ]
  },
  {
   "cell_type": "code",
   "execution_count": 61,
   "id": "a6eb839d-c00d-4f98-a6c6-6297ff275fc3",
   "metadata": {},
   "outputs": [],
   "source": [
    "I = np.eye(4)\n",
    "fake_targets=I[fake_targets]"
   ]
  },
  {
   "cell_type": "code",
   "execution_count": 62,
   "id": "fd1e5f0b-7b53-4224-8ae4-7cfcbff3f1b5",
   "metadata": {},
   "outputs": [
    {
     "data": {
      "text/plain": [
       "array([1., 0., 0., 0.])"
      ]
     },
     "execution_count": 62,
     "metadata": {},
     "output_type": "execute_result"
    }
   ],
   "source": [
    "fake_targets[0, 0]"
   ]
  },
  {
   "cell_type": "code",
   "execution_count": 63,
   "id": "d70af61a-01a4-470f-aa3b-ead2251dcbda",
   "metadata": {},
   "outputs": [
    {
     "data": {
      "text/plain": [
       "array([0., 0., 1., 0.])"
      ]
     },
     "execution_count": 63,
     "metadata": {},
     "output_type": "execute_result"
    }
   ],
   "source": [
    "fake_targets[0, 1]"
   ]
  },
  {
   "cell_type": "code",
   "execution_count": 64,
   "id": "b2e7e477-c9be-45ac-a688-02c42fe10f9b",
   "metadata": {},
   "outputs": [
    {
     "data": {
      "text/plain": [
       "array([0., 0., 0., 1.])"
      ]
     },
     "execution_count": 64,
     "metadata": {},
     "output_type": "execute_result"
    }
   ],
   "source": [
    "fake_targets[1, 0]"
   ]
  },
  {
   "cell_type": "markdown",
   "id": "79cce5d2-ba19-4b34-b8be-6aad5f09b9db",
   "metadata": {},
   "source": [
    "\n",
    "Confused? See: https://chat.openai.com/share/4b65586d-625f-4509-8d5a-3d09ce7229d4"
   ]
  },
  {
   "cell_type": "code",
   "execution_count": 55,
   "id": "013ce69c-8194-4e1a-86ea-ee5106dc595d",
   "metadata": {},
   "outputs": [
    {
     "data": {
      "text/plain": [
       "array([0., 1., 0., 0.])"
      ]
     },
     "execution_count": 55,
     "metadata": {},
     "output_type": "execute_result"
    }
   ],
   "source": [
    "fake_targets[1, 1]"
   ]
  },
  {
   "cell_type": "markdown",
   "id": "84576807-6fde-4c7f-b594-5dbcf3d53aa9",
   "metadata": {},
   "source": [
    "### More on fancy indexing\n",
    "\n",
    "#### Basic Concept\n",
    "- Fancy Indexing: In NumPy, fancy indexing refers to the capability to index an array with another array, list, or sequence of integers or boolean values. It's particularly useful when you need to retrieve or modify a non-contiguous subset of an array's data.\n",
    "\n",
    "\n",
    "#### How It Works with Row and Column Indices\n",
    "1. Index Arrays: Suppose you have two arrays: row_indices and col_indices. These arrays specify the rows and columns you want to access. For each pair `(row_indices[i], col_indices[i])`, NumPy will fetch the element at that position in the source array.\n",
    "\n",
    "2. Order of Execution: The order you mentioned (for row in rows for col in columns) correctly outlines how NumPy applies these indices. For each row index, it pairs with the corresponding column index to pick out the element. This is done sequentially, which means it starts with the first element of row_indices and col_indices, combines them into an index pair, and moves onto the next.\n",
    "\n",
    "### Practical Example\n",
    "Imagine you have the following array and you want to select specific elements using fancy indexing:\n",
    "\n",
    "```python\n",
    "import numpy as np\n",
    "\n",
    "# A sample 4x4 matrix\n",
    "A = np.array([\n",
    "    [11, 12, 13, 14],\n",
    "    [21, 22, 23, 24],\n",
    "    [31, 32, 33, 34],\n",
    "    [41, 42, 43, 44]\n",
    "])\n",
    "\n",
    "# Row and column indices\n",
    "row_indices = np.array([0, 2])\n",
    "col_indices = np.array([1, 3])\n",
    "\n",
    "# Applying fancy indexing\n",
    "selected_elements = A[row_indices, col_indices]  # Outputs: array([12, 34])\n",
    "```\n",
    "In this example:\n",
    "\n",
    "row_indices contains `[0, 2]` and col_indices contains [`1, 3]`.\n",
    "The resulting selected_elements will include `A[0,1]` (which is `12`) and `A[2,3]` (which is `34`).\n",
    "The indexing first takes the 0th row and 1st column, then the 2nd row and 3rd column.\n",
    "This method provides a powerful way to access and manipulate elements in an array based on multiple index vectors, following the logical order you described."
   ]
  },
  {
   "cell_type": "markdown",
   "id": "a853b0de-63ae-479d-8863-469fc421e5ed",
   "metadata": {},
   "source": [
    "### Example 2"
   ]
  },
  {
   "cell_type": "markdown",
   "id": "5af9e626-23a4-4fbd-a96f-1ab6ff7f03c5",
   "metadata": {},
   "source": [
    "#### Combining Indices into a Single Matrix\n",
    "\n",
    "Suppose you have the following `2x2` matrix of indices:\n",
    "\n",
    "```python\n",
    "indices = np.array([[0, 2], [1, 3]])\n",
    "```\n",
    "\n",
    "This matrix seems to combine row and column indices, but in a way that might be misinterpreted. Using it directly for indexing in a 2D array like A will not work as you might expect if you're aiming for the elements at `(0,1)` and `(2,3)`. Instead, this matrix will be treated as two separate row indices lists, which can lead to unexpected behavior.\n",
    "\n",
    "##### Example of Misinterpretation\n",
    "Let's see what happens if you try to use this matrix directly:\n",
    "\n",
    "```python\n",
    "import numpy as np\n",
    "\n",
    "# A sample 4x4 matrix\n",
    "A = np.array([\n",
    "    [11, 12, 13, 14],\n",
    "    [21, 22, 23, 24],\n",
    "    [31, 32, 33, 34],\n",
    "    [41, 42, 43, 44]\n",
    "])\n",
    "\n",
    "# Combined indices matrix\n",
    "indices = np.array([[0, 2], [1, 3]])\n",
    "\n",
    "# Attempt to use the indices matrix\n",
    "selected_elements = A[indices]\n",
    "```\n",
    "\n",
    "Here, selected_elements will not be what you might expect. It will actually select entire rows based on the indices and will look like this:\n",
    "\n",
    "```python\n",
    "array([\n",
    "    [11, 12, 13, 14],  # Row 0\n",
    "    [31, 32, 33, 34],  # Row 2\n",
    "    [21, 22, 23, 24],  # Row 1\n",
    "    [41, 42, 43, 44]   # Row 3\n",
    "])\n",
    "```\n",
    "\n",
    "This result occurs because each sublist in indices is interpreted as a full set of row indices to select, leading to a selection of full rows, not individual elements.\n",
    "\n",
    "Correct Way to Use Combined Indices for Specific Elements\n",
    "To correctly use combined indices for selecting specific elements like `(0,1)` and `(2,3)`, you should separate the indices into two separate arrays for rows and columns:\n",
    "\n",
    "```python\n",
    "# Correct row and column indices\n",
    "row_indices = np.array([0, 2])\n",
    "col_indices = np.array([1, 3])\n",
    "\n",
    "# Correct indexing to select specific elements\n",
    "correct_selected_elements = A[row_indices, col_indices]  # Outputs: array([12, 34])\n",
    "```\n",
    "\n",
    "In this way, row_indices and col_indices are used to directly specify the exact elements to retrieve, yielding the correct results `[12, 34]`.\n",
    "\n",
    "In summary, combining indices into a single matrix can lead to confusion unless you correctly separate and apply them as individual arrays for rows and columns when dealing with multi-dimensional arrays."
   ]
  },
  {
   "cell_type": "code",
   "execution_count": 69,
   "id": "3e85eca5-de24-420e-b72f-8cd7bd196ea7",
   "metadata": {},
   "outputs": [
    {
     "name": "stdout",
     "output_type": "stream",
     "text": [
      "reshaped_targets has shape: (32, 64, 256)\n"
     ]
    }
   ],
   "source": [
    "reshaped_targets = np.eye(predictions.shape[-1])[targets]\n",
    "print(f'reshaped_targets has shape: {reshaped_targets.shape}')"
   ]
  },
  {
   "cell_type": "code",
   "execution_count": 70,
   "id": "112c6c10-e313-4ac0-a92e-75438db786f3",
   "metadata": {},
   "outputs": [],
   "source": [
    "log_p = np.sum(predictions * reshaped_targets, axis= -1)"
   ]
  },
  {
   "cell_type": "code",
   "execution_count": 71,
   "id": "a5749492-008c-4dd2-a1ca-2c1bbf3ceb12",
   "metadata": {},
   "outputs": [
    {
     "data": {
      "text/plain": [
       "array([[ -5.39654493,  -1.03111839,  -0.66916656, ..., -22.37672997,\n",
       "        -23.18770981, -21.84348297],\n",
       "       [ -4.58577061,  -1.13412857,  -8.53803253, ..., -20.15686035,\n",
       "        -26.83709717, -23.57501984],\n",
       "       [ -5.22238874,  -1.28241444,  -0.17312431, ..., -21.328228  ,\n",
       "        -19.85441208, -33.88444138],\n",
       "       ...,\n",
       "       [ -5.39654493, -17.29168129,  -4.36076593, ..., -20.82580185,\n",
       "        -21.06583786, -22.44311523],\n",
       "       [ -5.93131638, -14.24741745,  -0.26373291, ..., -26.74324799,\n",
       "        -18.38433075, -22.35527802],\n",
       "       [ -5.67053604,  -0.10595131,   0.        , ..., -23.33252335,\n",
       "        -28.08737564, -23.87880707]])"
      ]
     },
     "execution_count": 71,
     "metadata": {},
     "output_type": "execute_result"
    }
   ],
   "source": [
    "log_p"
   ]
  },
  {
   "cell_type": "code",
   "execution_count": 72,
   "id": "be8d3629-7cb8-4596-aa98-0d338829cd41",
   "metadata": {},
   "outputs": [
    {
     "data": {
      "text/plain": [
       "(32, 64)"
      ]
     },
     "execution_count": 72,
     "metadata": {},
     "output_type": "execute_result"
    }
   ],
   "source": [
    "log_p.shape"
   ]
  },
  {
   "cell_type": "code",
   "execution_count": 73,
   "id": "f34ee0ac-fdec-4386-8655-1af4a886932e",
   "metadata": {},
   "outputs": [
    {
     "name": "stdout",
     "output_type": "stream",
     "text": [
      "non_pad has shape: (32, 64)\n",
      "\n",
      "non_pad looks like this: \n",
      "\n",
      " [[1. 1. 1. ... 0. 0. 0.]\n",
      " [1. 1. 1. ... 0. 0. 0.]\n",
      " [1. 1. 1. ... 0. 0. 0.]\n",
      " ...\n",
      " [1. 1. 1. ... 0. 0. 0.]\n",
      " [1. 1. 1. ... 0. 0. 0.]\n",
      " [1. 1. 1. ... 0. 0. 0.]]\n"
     ]
    }
   ],
   "source": [
    "non_pad = 1.0 - np.equal(targets, 0)\n",
    "print(f'non_pad has shape: {non_pad.shape}\\n')\n",
    "print(f'non_pad looks like this: \\n\\n {non_pad}')"
   ]
  },
  {
   "cell_type": "code",
   "execution_count": 74,
   "id": "f3ef5df4-8842-49f0-8dd2-b0d8776e8b49",
   "metadata": {},
   "outputs": [
    {
     "data": {
      "text/plain": [
       "array([[False, False, False, ...,  True,  True,  True],\n",
       "       [False, False, False, ...,  True,  True,  True],\n",
       "       [False, False, False, ...,  True,  True,  True],\n",
       "       ...,\n",
       "       [False, False, False, ...,  True,  True,  True],\n",
       "       [False, False, False, ...,  True,  True,  True],\n",
       "       [False, False, False, ...,  True,  True,  True]])"
      ]
     },
     "execution_count": 74,
     "metadata": {},
     "output_type": "execute_result"
    }
   ],
   "source": [
    "np.equal(targets, 0)"
   ]
  },
  {
   "cell_type": "code",
   "execution_count": 75,
   "id": "eda6e9f9-5180-4590-b715-e947809db196",
   "metadata": {},
   "outputs": [],
   "source": [
    "non_pad = 1-np.equal(targets, 0)"
   ]
  },
  {
   "cell_type": "code",
   "execution_count": 76,
   "id": "4bac3f4f-546a-41dd-bcde-b6fb336fa6fd",
   "metadata": {},
   "outputs": [
    {
     "data": {
      "text/plain": [
       "array([[1, 1, 1, ..., 0, 0, 0],\n",
       "       [1, 1, 1, ..., 0, 0, 0],\n",
       "       [1, 1, 1, ..., 0, 0, 0],\n",
       "       ...,\n",
       "       [1, 1, 1, ..., 0, 0, 0],\n",
       "       [1, 1, 1, ..., 0, 0, 0],\n",
       "       [1, 1, 1, ..., 0, 0, 0]])"
      ]
     },
     "execution_count": 76,
     "metadata": {},
     "output_type": "execute_result"
    }
   ],
   "source": [
    "non_pad"
   ]
  },
  {
   "cell_type": "code",
   "execution_count": 77,
   "id": "aea01b5a-c0d7-4c9d-be23-3c0971e281bf",
   "metadata": {},
   "outputs": [
    {
     "name": "stdout",
     "output_type": "stream",
     "text": [
      "real log probabilities still have shape: (32, 64)\n"
     ]
    }
   ],
   "source": [
    "real_log_p = log_p * non_pad\n",
    "print(f'real log probabilities still have shape: {real_log_p.shape}')"
   ]
  },
  {
   "cell_type": "code",
   "execution_count": 78,
   "id": "1b05dbfd-a265-4894-b33b-0bc9d12f8030",
   "metadata": {},
   "outputs": [
    {
     "data": {
      "text/plain": [
       "array([[ -5.39654493,  -1.03111839,  -0.66916656, ...,  -0.        ,\n",
       "         -0.        ,  -0.        ],\n",
       "       [ -4.58577061,  -1.13412857,  -8.53803253, ...,  -0.        ,\n",
       "         -0.        ,  -0.        ],\n",
       "       [ -5.22238874,  -1.28241444,  -0.17312431, ...,  -0.        ,\n",
       "         -0.        ,  -0.        ],\n",
       "       ...,\n",
       "       [ -5.39654493, -17.29168129,  -4.36076593, ...,  -0.        ,\n",
       "         -0.        ,  -0.        ],\n",
       "       [ -5.93131638, -14.24741745,  -0.26373291, ...,  -0.        ,\n",
       "         -0.        ,  -0.        ],\n",
       "       [ -5.67053604,  -0.10595131,   0.        , ...,  -0.        ,\n",
       "         -0.        ,  -0.        ]])"
      ]
     },
     "execution_count": 78,
     "metadata": {},
     "output_type": "execute_result"
    }
   ],
   "source": [
    "real_log_p"
   ]
  },
  {
   "cell_type": "code",
   "execution_count": 79,
   "id": "21f87e2c-fe7a-447a-946e-3614a74a072e",
   "metadata": {},
   "outputs": [
    {
     "name": "stdout",
     "output_type": "stream",
     "text": [
      "log probabilities before filtering padding: \n",
      "\n",
      " [[ -5.39654493  -1.03111839  -0.66916656 ... -22.37672997 -23.18770981\n",
      "  -21.84348297]\n",
      " [ -4.58577061  -1.13412857  -8.53803253 ... -20.15686035 -26.83709717\n",
      "  -23.57501984]\n",
      " [ -5.22238874  -1.28241444  -0.17312431 ... -21.328228   -19.85441208\n",
      "  -33.88444138]\n",
      " ...\n",
      " [ -5.39654493 -17.29168129  -4.36076593 ... -20.82580185 -21.06583786\n",
      "  -22.44311523]\n",
      " [ -5.93131638 -14.24741745  -0.26373291 ... -26.74324799 -18.38433075\n",
      "  -22.35527802]\n",
      " [ -5.67053604  -0.10595131   0.         ... -23.33252335 -28.08737564\n",
      "  -23.87880707]]\n",
      "\n",
      "log probabilities after filtering padding: \n",
      "\n",
      " [[ -5.39654493  -1.03111839  -0.66916656 ...  -0.          -0.\n",
      "   -0.        ]\n",
      " [ -4.58577061  -1.13412857  -8.53803253 ...  -0.          -0.\n",
      "   -0.        ]\n",
      " [ -5.22238874  -1.28241444  -0.17312431 ...  -0.          -0.\n",
      "   -0.        ]\n",
      " ...\n",
      " [ -5.39654493 -17.29168129  -4.36076593 ...  -0.          -0.\n",
      "   -0.        ]\n",
      " [ -5.93131638 -14.24741745  -0.26373291 ...  -0.          -0.\n",
      "   -0.        ]\n",
      " [ -5.67053604  -0.10595131   0.         ...  -0.          -0.\n",
      "   -0.        ]]\n"
     ]
    }
   ],
   "source": [
    "print(f'log probabilities before filtering padding: \\n\\n {log_p}\\n')\n",
    "print(f'log probabilities after filtering padding: \\n\\n {real_log_p}')"
   ]
  },
  {
   "cell_type": "code",
   "execution_count": 80,
   "id": "873aeb5a-26c0-4441-905d-7581b4b2dd38",
   "metadata": {},
   "outputs": [
    {
     "name": "stdout",
     "output_type": "stream",
     "text": [
      "The log perplexity and perplexity of the model are respectively: 2.6211854987065033 and 13.752016923578548\n"
     ]
    }
   ],
   "source": [
    "log_ppx = np.sum(real_log_p, axis=1) / np.sum(non_pad, axis=1)\n",
    "log_ppx = np.mean(-log_ppx)\n",
    "print(f'The log perplexity and perplexity of the model are respectively: {log_ppx} and {np.exp(log_ppx)}')"
   ]
  },
  {
   "cell_type": "code",
   "execution_count": null,
   "id": "f59f46b0-429b-491f-8bdf-e870065afa8d",
   "metadata": {},
   "outputs": [],
   "source": []
  }
 ],
 "metadata": {
  "kernelspec": {
   "display_name": "Python 3 (ipykernel)",
   "language": "python",
   "name": "python3"
  },
  "language_info": {
   "codemirror_mode": {
    "name": "ipython",
    "version": 3
   },
   "file_extension": ".py",
   "mimetype": "text/x-python",
   "name": "python",
   "nbconvert_exporter": "python",
   "pygments_lexer": "ipython3",
   "version": "3.11.7"
  }
 },
 "nbformat": 4,
 "nbformat_minor": 5
}
